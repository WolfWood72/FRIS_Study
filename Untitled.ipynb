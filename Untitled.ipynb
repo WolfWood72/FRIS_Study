{
 "cells": [
  {
   "cell_type": "code",
   "execution_count": 1,
   "metadata": {},
   "outputs": [],
   "source": [
    "import pandas as pd\n",
    "from sklearn.neighbors import NearestNeighbors\n",
    "import numpy as np\n",
    "from matplotlib.colors import ListedColormap\n",
    "import matplotlib.pyplot as plt\n",
    "\n",
    "%matplotlib inline\n"
   ]
  },
  {
   "cell_type": "code",
   "execution_count": null,
   "metadata": {},
   "outputs": [],
   "source": []
  },
  {
   "cell_type": "code",
   "execution_count": 2,
   "metadata": {},
   "outputs": [],
   "source": [
    "data = pd.read_csv(\"data/jain.csv\",header=None)"
   ]
  },
  {
   "cell_type": "code",
   "execution_count": 3,
   "metadata": {},
   "outputs": [],
   "source": [
    "X = data[[0,1]]"
   ]
  },
  {
   "cell_type": "code",
   "execution_count": 4,
   "metadata": {},
   "outputs": [],
   "source": [
    "Y = data[2]"
   ]
  },
  {
   "cell_type": "code",
   "execution_count": 5,
   "metadata": {},
   "outputs": [],
   "source": [
    "N = data.shape[0]"
   ]
  },
  {
   "cell_type": "code",
   "execution_count": null,
   "metadata": {},
   "outputs": [],
   "source": []
  },
  {
   "cell_type": "code",
   "execution_count": 6,
   "metadata": {},
   "outputs": [],
   "source": [
    "import FrisLib as FL"
   ]
  },
  {
   "cell_type": "code",
   "execution_count": 7,
   "metadata": {},
   "outputs": [],
   "source": [
    "FC = FL.FrisCluster(10)"
   ]
  },
  {
   "cell_type": "code",
   "execution_count": 8,
   "metadata": {},
   "outputs": [
    {
     "name": "stdout",
     "output_type": "stream",
     "text": [
      "[array([23.2,  5.3]), array([34.7,  7.2])]\n",
      "Wall time: 5min 5s\n"
     ]
    }
   ],
   "source": [
    "%%time\n",
    "FC.fit(X)"
   ]
  },
  {
   "cell_type": "code",
   "execution_count": 17,
   "metadata": {},
   "outputs": [],
   "source": [
    "stolps = FC.get_stolp_list()"
   ]
  },
  {
   "cell_type": "code",
   "execution_count": 19,
   "metadata": {},
   "outputs": [
    {
     "data": {
      "text/plain": [
       "Text(0,0.5,'Y')"
      ]
     },
     "execution_count": 19,
     "metadata": {},
     "output_type": "execute_result"
    },
    {
     "data": {
      "image/png": "[encoded data removed]",
      "text/plain": [
       "<Figure size 432x288 with 1 Axes>"
      ]
     },
     "metadata": {
      "needs_background": "light"
     },
     "output_type": "display_data"
    }
   ],
   "source": [
    "\n",
    "markers = ('s', 'x', '+')\n",
    "colors = ('red', 'blue', 'lightgreen','black','yellow','indigo')\n",
    "cmap = ListedColormap(colors)\n",
    "Y = list(Y)\n",
    "for idx, cl in enumerate(np.unique(Y)):\n",
    "    X_val_1 = []\n",
    "    X_val_2 = []\n",
    "    for i in range(N):\n",
    "        if Y[i] == cl:\n",
    "            X_val_1.append(X.values[i][0])\n",
    "            X_val_2.append(X.values[i][1])\n",
    "        plt.scatter(x=X_val_1, y=X_val_2, c=cmap(idx), marker='+', label=cl)\n",
    "    for s in stolps:\n",
    "        plt.scatter(x=s[0],y=s[1])\n",
    "plt.xlabel('X')\n",
    "plt.ylabel('Y')    \n",
    "\n"
   ]
  },
  {
   "cell_type": "code",
   "execution_count": 16,
   "metadata": {},
   "outputs": [
    {
     "data": {
      "image/png": "[encoded data removed]",
      "text/plain": [
       "<Figure size 432x288 with 1 Axes>"
      ]
     },
     "metadata": {
      "needs_background": "light"
     },
     "output_type": "display_data"
    }
   ],
   "source": [
    "for s in stolps:\n",
    "    plt.scatter(x=s[0],y=s[1])"
   ]
  },
  {
   "cell_type": "code",
   "execution_count": 23,
   "metadata": {},
   "outputs": [
    {
     "name": "stdout",
     "output_type": "stream",
     "text": [
      "old stolp: [ 4.4  20.05]. new stolp:[ 4.4  20.05]\n",
      "old stolp: [13.75 22.  ]. new stolp:[13.95 22.7 ]\n"
     ]
    },
    {
     "name": "stderr",
     "output_type": "stream",
     "text": [
      "D:\\Ivan\\Documents\\PyCharmProjects\\FRIS_Study\\FrisLib.py:73: RuntimeWarning: invalid value encountered in double_scalars\n",
      "  return (self.m(s_a2, a) - self.m(s_a1, a)) / (self.m(s_a2, a) + self.m(s_a1, a))\n"
     ]
    },
    {
     "name": "stdout",
     "output_type": "stream",
     "text": [
      "old stolp: [ 4.4  20.05]. new stolp:[22.25 18.1 ]\n",
      "old stolp: [17.  14.6]. new stolp:[16.85 14.3 ]\n",
      "old stolp: [39.9 16.2]. new stolp:[19.05  8.85]\n",
      "old stolp: [23.2  5.3]. new stolp:[23.3  4.9]\n",
      "old stolp: [22.25 18.1 ]. new stolp:[29.15  4.4 ]\n",
      "old stolp: [38.95 12.9 ]. new stolp:[34.7  7.2]\n",
      "old stolp: [13.95 22.7 ]. new stolp:[37.95 11.85]\n",
      "old stolp: [34.7  7.2]. new stolp:[39.9 16.2]\n"
     ]
    }
   ],
   "source": [
    "new_stolps = FC.distribute_stolp_list(stolps,X)"
   ]
  },
  {
   "cell_type": "code",
   "execution_count": 24,
   "metadata": {},
   "outputs": [
    {
     "data": {
      "text/plain": [
       "[array([29.15,  4.4 ]),\n",
       " array([19.05,  8.85]),\n",
       " array([16.85, 14.3 ]),\n",
       " array([19.05,  8.85]),\n",
       " array([23.3,  4.9]),\n",
       " array([29.15,  4.4 ]),\n",
       " array([37.95, 11.85]),\n",
       " array([39.9, 16.2])]"
      ]
     },
     "execution_count": 24,
     "metadata": {},
     "output_type": "execute_result"
    }
   ],
   "source": [
    "new_stolps"
   ]
  },
  {
   "cell_type": "code",
   "execution_count": 25,
   "metadata": {},
   "outputs": [
    {
     "data": {
      "text/plain": [
       "[array([23.2,  5.3]),\n",
       " array([34.7,  7.2]),\n",
       " array([17. , 14.6]),\n",
       " array([38.95, 12.9 ]),\n",
       " array([29.15,  4.4 ]),\n",
       " array([19.05,  8.85]),\n",
       " array([13.75, 22.  ]),\n",
       " array([39.9, 16.2]),\n",
       " array([22.25, 18.1 ]),\n",
       " array([ 4.4 , 20.05])]"
      ]
     },
     "execution_count": 25,
     "metadata": {},
     "output_type": "execute_result"
    }
   ],
   "source": [
    "stolps"
   ]
  },
  {
   "cell_type": "code",
   "execution_count": 20,
   "metadata": {},
   "outputs": [],
   "source": [
    "temp_x = X\n",
    "nbrs = NearestNeighbors(n_neighbors=1, metric='euclidean').fit(stolps)\n",
    "nn = nbrs.kneighbors(temp_x.values, n_neighbors=1, return_distance=False)"
   ]
  },
  {
   "cell_type": "code",
   "execution_count": 21,
   "metadata": {},
   "outputs": [],
   "source": [
    "cluster = temp_x.apply(lambda x: nn[x.name][0], axis=1)\n"
   ]
  },
  {
   "cell_type": "code",
   "execution_count": 22,
   "metadata": {},
   "outputs": [
    {
     "data": {
      "text/plain": [
       "1    49\n",
       "0    48\n",
       "5    43\n",
       "4    40\n",
       "2    40\n",
       "6    38\n",
       "3    36\n",
       "8    34\n",
       "9    25\n",
       "7    20\n",
       "dtype: int64"
      ]
     },
     "execution_count": 22,
     "metadata": {},
     "output_type": "execute_result"
    }
   ],
   "source": [
    "cluster.value_counts()"
   ]
  },
  {
   "cell_type": "code",
   "execution_count": null,
   "metadata": {},
   "outputs": [],
   "source": [
    "cluster[cluster == 6].index"
   ]
  },
  {
   "cell_type": "code",
   "execution_count": null,
   "metadata": {},
   "outputs": [],
   "source": [
    "temp_x[temp_x.index.isin(cluster[cluster == 6].index)]"
   ]
  },
  {
   "cell_type": "code",
   "execution_count": null,
   "metadata": {},
   "outputs": [],
   "source": [
    "cur_cluster = temp_x[temp_x.index.isin(cluster[cluster == 6].index)]"
   ]
  },
  {
   "cell_type": "code",
   "execution_count": null,
   "metadata": {},
   "outputs": [],
   "source": [
    "cur_cluster.head()"
   ]
  },
  {
   "cell_type": "code",
   "execution_count": null,
   "metadata": {},
   "outputs": [],
   "source": [
    "FC.sum_f(cur_cluster, stolps)\n"
   ]
  },
  {
   "cell_type": "code",
   "execution_count": null,
   "metadata": {},
   "outputs": [],
   "source": []
  },
  {
   "cell_type": "code",
   "execution_count": null,
   "metadata": {},
   "outputs": [],
   "source": [
    "def distribute_stolp_list(self, stolp_list, data):\n",
    "    nbrs = NearestNeighbors(n_neighbors=1, metric='euclidean').fit(stolp_list)\n",
    "    nn = nbrs.kneighbors(data.values, n_neighbors=1, return_distance=False)\n",
    "    cluster = data.apply(lambda x: nn[x.name][0], axis=1)\n",
    "    for cl in cluster.unique():\n",
    "        cur_cluster =  data[data.index.isin(cluster[cluster == 6].index)]\n",
    "        self.sum_f(cur_cluster, stolp_list)\n",
    "        maxindex = cur_cluster[\"F\"].idxmax()\n"
   ]
  },
  {
   "cell_type": "code",
   "execution_count": null,
   "metadata": {},
   "outputs": [],
   "source": []
  },
  {
   "cell_type": "code",
   "execution_count": null,
   "metadata": {},
   "outputs": [],
   "source": []
  }
 ],
 "metadata": {
  "kernelspec": {
   "display_name": "Python 3",
   "language": "python",
   "name": "python3"
  },
  "language_info": {
   "codemirror_mode": {
    "name": "ipython",
    "version": 3
   },
   "file_extension": ".py",
   "mimetype": "text/x-python",
   "name": "python",
   "nbconvert_exporter": "python",
   "pygments_lexer": "ipython3",
   "version": "3.7.0"
  }
 },
 "nbformat": 4,
 "nbformat_minor": 2
}
