{
 "cells": [
  {
   "cell_type": "code",
   "execution_count": 1,
   "metadata": {},
   "outputs": [],
   "source": [
    "import pandas as pd\n",
    "from sklearn.neighbors import NearestNeighbors\n",
    "from sklearn.metrics import pairwise_distances,pairwise_distances_argmin_min\n",
    "import numpy as np\n",
    "from matplotlib.colors import ListedColormap\n",
    "import matplotlib.pyplot as plt\n",
    "import itertools\n",
    "%matplotlib inline\n",
    "\n",
    "import FrisLib as FL\n"
   ]
  },
  {
   "cell_type": "code",
   "execution_count": null,
   "metadata": {},
   "outputs": [],
   "source": []
  },
  {
   "cell_type": "code",
   "execution_count": 2,
   "metadata": {},
   "outputs": [],
   "source": [
    "data = pd.read_csv(\"data/jain.csv\",header=None)"
   ]
  },
  {
   "cell_type": "code",
   "execution_count": 3,
   "metadata": {},
   "outputs": [],
   "source": [
    "X = data[[0,1]]"
   ]
  },
  {
   "cell_type": "code",
   "execution_count": 4,
   "metadata": {},
   "outputs": [],
   "source": [
    "Y = data[2]"
   ]
  },
  {
   "cell_type": "code",
   "execution_count": 5,
   "metadata": {},
   "outputs": [],
   "source": [
    "N = data.shape[0]"
   ]
  },
  {
   "cell_type": "code",
   "execution_count": 7,
   "metadata": {},
   "outputs": [],
   "source": [
    "FC = FL.FrisCluster(10)"
   ]
  },
  {
   "cell_type": "code",
   "execution_count": 8,
   "metadata": {},
   "outputs": [
    {
     "name": "stdout",
     "output_type": "stream",
     "text": [
      "[array([23.2,  5.3]), array([34.7,  7.2])]\n",
      "old stolp: [ 4.4  20.05]. new stolp:[ 7.1  18.65]\n",
      "old stolp: [13.75 22.  ]. new stolp:[17.45 20.75]\n",
      "old stolp: [22.25 18.1 ]. new stolp:[21.5 15.5]\n",
      "old stolp: [17.  14.6]. new stolp:[17.45 14.15]\n",
      "old stolp: [19.05  8.85]. new stolp:[21.1  8. ]\n",
      "old stolp: [23.2  5.3]. new stolp:[23.   5.6]\n",
      "old stolp: [29.15  4.4 ]. new stolp:[26.6  4.9]\n",
      "old stolp: [34.7  7.2]. new stolp:[31.65  6.55]\n",
      "old stolp: [38.95 12.9 ]. new stolp:[36.3 10.7]\n",
      "old stolp: [39.9 16.2]. new stolp:[38.85 15.5 ]\n",
      "Wall time: 7min 4s\n"
     ]
    }
   ],
   "source": [
    "%%time\n",
    "FC.fit(X)"
   ]
  },
  {
   "cell_type": "code",
   "execution_count": 9,
   "metadata": {},
   "outputs": [],
   "source": [
    "stolps = FC.get_stolp_list()"
   ]
  },
  {
   "cell_type": "code",
   "execution_count": 12,
   "metadata": {},
   "outputs": [
    {
     "data": {
      "text/plain": [
       "[array([23. ,  5.6]),\n",
       " array([31.65,  6.55]),\n",
       " array([17.45, 14.15]),\n",
       " array([36.3, 10.7]),\n",
       " array([26.6,  4.9]),\n",
       " array([21.1,  8. ]),\n",
       " array([17.45, 20.75]),\n",
       " array([38.85, 15.5 ]),\n",
       " array([21.5, 15.5]),\n",
       " array([ 7.1 , 18.65])]"
      ]
     },
     "execution_count": 12,
     "metadata": {},
     "output_type": "execute_result"
    }
   ],
   "source": [
    "stolps"
   ]
  },
  {
   "cell_type": "code",
   "execution_count": 16,
   "metadata": {},
   "outputs": [
    {
     "data": {
      "text/plain": [
       "Text(0,0.5,'Y')"
      ]
     },
     "execution_count": 16,
     "metadata": {},
     "output_type": "execute_result"
    },
    {
     "data": {
      "image/png": "[encoded data removed]",
      "text/plain": [
       "<Figure size 432x288 with 1 Axes>"
      ]
     },
     "metadata": {
      "needs_background": "light"
     },
     "output_type": "display_data"
    }
   ],
   "source": [
    "\n",
    "markers = ('s', 'x', '+')\n",
    "colors = ('red', 'blue', 'lightgreen','black','yellow','indigo', 'dimgray', 'olive', 'cyan', 'orchid', 'plum', 'sienna', 'wheat', 'azure')\n",
    "cmap = ListedColormap(colors)\n",
    "Y = list(Y)\n",
    "for idx, cl in enumerate(np.unique(Y)):\n",
    "    X_val_1 = []\n",
    "    X_val_2 = []\n",
    "    for i in range(N):\n",
    "        if Y[i] == cl:\n",
    "            \n",
    "            X_val_1.append(X.values[i][0])\n",
    "            X_val_2.append(X.values[i][1])\n",
    "        plt.scatter(x=X_val_1, y=X_val_2, c=cmap(idx), marker='+', label=cl)\n",
    "    for s in stolps:\n",
    "        plt.scatter(x=s[0],y=s[1],c=cmap(12))\n",
    "    #for s in new_stolps:\n",
    "    #    plt.scatter(x=s[0],y=s[1],c=cmap(12))        \n",
    "plt.xlabel('X')\n",
    "plt.ylabel('Y')    \n",
    "\n"
   ]
  },
  {
   "cell_type": "code",
   "execution_count": 14,
   "metadata": {},
   "outputs": [
    {
     "data": {
      "image/png": "[encoded data removed]",
      "text/plain": [
       "<Figure size 432x288 with 1 Axes>"
      ]
     },
     "metadata": {
      "needs_background": "light"
     },
     "output_type": "display_data"
    }
   ],
   "source": [
    "for s in stolps:\n",
    "    plt.scatter(x=s[0],y=s[1])"
   ]
  },
  {
   "cell_type": "code",
   "execution_count": 18,
   "metadata": {},
   "outputs": [],
   "source": [
    "nbrs = NearestNeighbors(n_neighbors=1, metric='euclidean').fit(stolps)\n",
    "nn = nbrs.kneighbors(X.values, n_neighbors=1, return_distance=False)\n",
    "cluster = X.apply(lambda x: nn[x.name][0], axis=1)"
   ]
  },
  {
   "cell_type": "code",
   "execution_count": 19,
   "metadata": {},
   "outputs": [
    {
     "data": {
      "text/plain": [
       "Text(0,0.5,'Y')"
      ]
     },
     "execution_count": 19,
     "metadata": {},
     "output_type": "execute_result"
    },
    {
     "data": {
      "image/png": "[encoded data removed]",
      "text/plain": [
       "<Figure size 432x288 with 1 Axes>"
      ]
     },
     "metadata": {
      "needs_background": "light"
     },
     "output_type": "display_data"
    }
   ],
   "source": [
    "\n",
    "markers = ('s', 'x', '+')\n",
    "colors = ('red', 'blue', 'lightgreen','black','yellow','indigo', 'dimgray', 'olive', 'cyan', 'orchid', 'plum', 'sienna', 'wheat', 'azure')\n",
    "cmap = ListedColormap(colors)\n",
    "cluster_list = list(cluster)\n",
    "for idx, cl in enumerate(np.unique(cluster)):\n",
    "    X_val_1 = []\n",
    "    X_val_2 = []\n",
    "    for i in range(N):\n",
    "        if cluster_list[i] == cl:\n",
    "            X_val_1.append(X.values[i][0])\n",
    "            X_val_2.append(X.values[i][1])\n",
    "        plt.scatter(x=X_val_1, y=X_val_2, c=cmap(idx), marker='+', label=cl)\n",
    "    #for s in stolps:\n",
    "    #    plt.scatter(x=s[0],y=s[1])\n",
    "plt.xlabel('X')\n",
    "plt.ylabel('Y')    \n"
   ]
  },
  {
   "cell_type": "code",
   "execution_count": 20,
   "metadata": {},
   "outputs": [],
   "source": [
    "FrisC = FL.FrisClass(0.5)"
   ]
  },
  {
   "cell_type": "code",
   "execution_count": 26,
   "metadata": {},
   "outputs": [],
   "source": [
    "cluster = FrisC.fit(X, cluster, stolps)"
   ]
  },
  {
   "cell_type": "code",
   "execution_count": 27,
   "metadata": {},
   "outputs": [],
   "source": [
    "class_stolps = FrisC.get_stolp_list()"
   ]
  },
  {
   "cell_type": "code",
   "execution_count": 29,
   "metadata": {},
   "outputs": [
    {
     "data": {
      "text/plain": [
       "Text(0,0.5,'Y')"
      ]
     },
     "execution_count": 29,
     "metadata": {},
     "output_type": "execute_result"
    },
    {
     "data": {
      "image/png": "[encoded data removed]",
      "text/plain": [
       "<Figure size 432x288 with 1 Axes>"
      ]
     },
     "metadata": {
      "needs_background": "light"
     },
     "output_type": "display_data"
    }
   ],
   "source": [
    "\n",
    "markers = ('s', 'x', '+')\n",
    "colors = ('red', 'blue', 'lightgreen','black','yellow','indigo', 'dimgray', 'olive', 'cyan', 'orchid', 'plum', 'sienna', 'wheat', 'azure')\n",
    "cmap = ListedColormap(colors)\n",
    "Y = list(Y)\n",
    "for idx, cl in enumerate(np.unique(Y)):\n",
    "    X_val_1 = []\n",
    "    X_val_2 = []\n",
    "    for i in range(N):\n",
    "        if Y[i] == cl:\n",
    "            \n",
    "            X_val_1.append(X.values[i][0])\n",
    "            X_val_2.append(X.values[i][1])\n",
    "        plt.scatter(x=X_val_1, y=X_val_2, c=cmap(idx), marker='+', label=cl)\n",
    "    for s in class_stolps:\n",
    "        plt.scatter(x=s[0],y=s[1],c=cmap(12))\n",
    "    #for s in new_stolps:\n",
    "    #    plt.scatter(x=s[0],y=s[1],c=cmap(12))        \n",
    "plt.xlabel('X')\n",
    "plt.ylabel('Y')    \n"
   ]
  },
  {
   "cell_type": "code",
   "execution_count": 30,
   "metadata": {},
   "outputs": [
    {
     "data": {
      "text/plain": [
       "Text(0,0.5,'Y')"
      ]
     },
     "execution_count": 30,
     "metadata": {},
     "output_type": "execute_result"
    },
    {
     "data": {
      "image/png": "[encoded data removed]",
      "text/plain": [
       "<Figure size 432x288 with 1 Axes>"
      ]
     },
     "metadata": {
      "needs_background": "light"
     },
     "output_type": "display_data"
    }
   ],
   "source": [
    "\n",
    "markers = ('s', 'x', '+')\n",
    "colors = ('red', 'blue', 'lightgreen','black','yellow','indigo', 'dimgray', 'olive', 'cyan', 'orchid', 'plum', 'sienna', 'wheat', 'azure')\n",
    "cmap = ListedColormap(colors)\n",
    "cluster_list = list(cluster)\n",
    "for idx, cl in enumerate(np.unique(cluster)):\n",
    "    X_val_1 = []\n",
    "    X_val_2 = []\n",
    "    for i in range(N):\n",
    "        if cluster_list[i] == cl:\n",
    "            X_val_1.append(X.values[i][0])\n",
    "            X_val_2.append(X.values[i][1])\n",
    "        plt.scatter(x=X_val_1, y=X_val_2, c=cmap(idx), marker='+', label=cl)\n",
    "    #for s in stolps:\n",
    "    #    plt.scatter(x=s[0],y=s[1])\n",
    "plt.xlabel('X')\n",
    "plt.ylabel('Y')    "
   ]
  },
  {
   "cell_type": "code",
   "execution_count": null,
   "metadata": {},
   "outputs": [],
   "source": []
  },
  {
   "cell_type": "code",
   "execution_count": null,
   "metadata": {},
   "outputs": [],
   "source": []
  },
  {
   "cell_type": "code",
   "execution_count": null,
   "metadata": {},
   "outputs": [],
   "source": []
  },
  {
   "cell_type": "code",
   "execution_count": null,
   "metadata": {},
   "outputs": [],
   "source": []
  },
  {
   "cell_type": "code",
   "execution_count": null,
   "metadata": {},
   "outputs": [],
   "source": []
  },
  {
   "cell_type": "code",
   "execution_count": null,
   "metadata": {},
   "outputs": [],
   "source": []
  },
  {
   "cell_type": "code",
   "execution_count": null,
   "metadata": {},
   "outputs": [],
   "source": [
    "new_stolps = FC.distribute_stolp_list(stolps,X)"
   ]
  },
  {
   "cell_type": "code",
   "execution_count": null,
   "metadata": {},
   "outputs": [],
   "source": [
    "stolps"
   ]
  },
  {
   "cell_type": "code",
   "execution_count": null,
   "metadata": {},
   "outputs": [],
   "source": [
    "new_stolps"
   ]
  },
  {
   "cell_type": "code",
   "execution_count": null,
   "metadata": {},
   "outputs": [],
   "source": [
    "len(new_stolps)"
   ]
  },
  {
   "cell_type": "code",
   "execution_count": null,
   "metadata": {},
   "outputs": [],
   "source": [
    "cluster_data = X.copy()\n",
    "cluster_data[\"stolp_index\"] = cluster_data.apply(lambda x: nn[x.name][0], axis=1)\n",
    "cluster_data[\"stolp\"] = cluster_data.apply(lambda x: stable_stolps[nn[x.name][0]], axis=1)"
   ]
  },
  {
   "cell_type": "code",
   "execution_count": null,
   "metadata": {},
   "outputs": [],
   "source": []
  },
  {
   "cell_type": "code",
   "execution_count": null,
   "metadata": {},
   "outputs": [],
   "source": []
  },
  {
   "cell_type": "code",
   "execution_count": null,
   "metadata": {},
   "outputs": [],
   "source": [
    "stable_stolps = [np.array([23. ,  5.6]), np.array([31.65,  6.55]), np.array([17.45, 14.15]),\n",
    "                 np.array([36.3, 10.7]), np.array([26.6,  4.9]),  np.array([21.1,  8. ]), \n",
    "                 np.array([17.45, 20.75]), np.array([38.85, 15.5 ]),  np.array([21.5, 15.5]), np.array([ 7.1 , 18.65])]"
   ]
  },
  {
   "cell_type": "code",
   "execution_count": null,
   "metadata": {},
   "outputs": [],
   "source": [
    "nbrs = NearestNeighbors(n_neighbors=1, metric='euclidean').fit(stable_stolps)\n",
    "nn = nbrs.kneighbors(X.values, n_neighbors=1, return_distance=False)\n",
    "cluster = X.apply(lambda x: nn[x.name][0], axis=1)"
   ]
  },
  {
   "cell_type": "code",
   "execution_count": null,
   "metadata": {},
   "outputs": [],
   "source": [
    "def make_pair_combination( array):\n",
    "    return list(filter(lambda x: x[0] != x[1] ,list(itertools.product(array,array))))"
   ]
  },
  {
   "cell_type": "code",
   "execution_count": null,
   "metadata": {},
   "outputs": [],
   "source": [
    "FrisC = FL.FrisClass(0.5)"
   ]
  },
  {
   "cell_type": "code",
   "execution_count": null,
   "metadata": {},
   "outputs": [],
   "source": [
    "FrisC.set_stolp_list(stable_stolps)"
   ]
  },
  {
   "cell_type": "code",
   "execution_count": null,
   "metadata": {},
   "outputs": [],
   "source": [
    "clusters_list = cluster.unique()"
   ]
  },
  {
   "cell_type": "code",
   "execution_count": null,
   "metadata": {},
   "outputs": [],
   "source": [
    "clusters_list"
   ]
  },
  {
   "cell_type": "code",
   "execution_count": null,
   "metadata": {},
   "outputs": [],
   "source": [
    "all_cluster_combinations = FrisC.make_pair_combination(clusters_list)\n"
   ]
  },
  {
   "cell_type": "code",
   "execution_count": null,
   "metadata": {},
   "outputs": [],
   "source": [
    "cluster_pair = all_cluster_combinations[0]"
   ]
  },
  {
   "cell_type": "code",
   "execution_count": null,
   "metadata": {},
   "outputs": [],
   "source": [
    "rival_df = FrisC.get_rival_zone(X[cluster == cluster_pair[0]], \n",
    "                     X[cluster == cluster_pair[1]], \n",
    "                     FrisC.get_stolp(cluster_pair[0]), \n",
    "                     FrisC.get_stolp(cluster_pair[1]))\n"
   ]
  },
  {
   "cell_type": "code",
   "execution_count": null,
   "metadata": {},
   "outputs": [],
   "source": [
    "rival_df.head()"
   ]
  },
  {
   "cell_type": "code",
   "execution_count": null,
   "metadata": {},
   "outputs": [],
   "source": [
    "rival_df[rival_df[\"ns\"] & rival_df[\"F_metric\"] & rival_df[\"stolp_distance\"]].drop(['ns', 'F_metric', 'stolp_distance'],axis=1)"
   ]
  },
  {
   "cell_type": "code",
   "execution_count": null,
   "metadata": {},
   "outputs": [],
   "source": [
    "d = {(0,1): 1}"
   ]
  },
  {
   "cell_type": "code",
   "execution_count": null,
   "metadata": {},
   "outputs": [],
   "source": [
    "d"
   ]
  },
  {
   "cell_type": "code",
   "execution_count": null,
   "metadata": {},
   "outputs": [],
   "source": [
    "trmp = rival_df.drop(['ns', 'F_metric', 'stolp_distance'],axis=1)"
   ]
  },
  {
   "cell_type": "code",
   "execution_count": null,
   "metadata": {},
   "outputs": [],
   "source": [
    "trmp1 = trmp[trmp[\"cluster\"]==9][[0,1]]\n",
    "trmp2 = trmp[trmp[\"cluster\"]==6][[0,1]]"
   ]
  },
  {
   "cell_type": "code",
   "execution_count": null,
   "metadata": {},
   "outputs": [],
   "source": [
    "trmp1.shape"
   ]
  },
  {
   "cell_type": "code",
   "execution_count": null,
   "metadata": {
    "scrolled": true
   },
   "outputs": [],
   "source": [
    "trmp2.shape"
   ]
  },
  {
   "cell_type": "code",
   "execution_count": null,
   "metadata": {},
   "outputs": [],
   "source": [
    "m = lambda x, y: np.linalg.norm(x - y)"
   ]
  },
  {
   "cell_type": "code",
   "execution_count": null,
   "metadata": {},
   "outputs": [],
   "source": []
  },
  {
   "cell_type": "code",
   "execution_count": null,
   "metadata": {},
   "outputs": [],
   "source": []
  },
  {
   "cell_type": "code",
   "execution_count": null,
   "metadata": {},
   "outputs": [],
   "source": []
  },
  {
   "cell_type": "code",
   "execution_count": null,
   "metadata": {},
   "outputs": [],
   "source": []
  }
 ],
 "metadata": {
  "kernelspec": {
   "display_name": "Python 3",
   "language": "python",
   "name": "python3"
  },
  "language_info": {
   "codemirror_mode": {
    "name": "ipython",
    "version": 3
   },
   "file_extension": ".py",
   "mimetype": "text/x-python",
   "name": "python",
   "nbconvert_exporter": "python",
   "pygments_lexer": "ipython3",
   "version": "3.7.0"
  }
 },
 "nbformat": 4,
 "nbformat_minor": 2
}
