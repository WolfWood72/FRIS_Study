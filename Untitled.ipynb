{
 "cells": [
  {
   "cell_type": "code",
   "execution_count": 34,
   "metadata": {},
   "outputs": [],
   "source": [
    "import pandas as pd\n",
    "from sklearn.neighbors import NearestNeighbors\n",
    "from sklearn.metrics import pairwise_distances,pairwise_distances_argmin_min\n",
    "import numpy as np\n",
    "from matplotlib.colors import ListedColormap\n",
    "import matplotlib.pyplot as plt\n",
    "import itertools\n",
    "%matplotlib inline\n",
    "\n",
    "import FrisLib as FL\n"
   ]
  },
  {
   "cell_type": "code",
   "execution_count": null,
   "metadata": {},
   "outputs": [],
   "source": []
  },
  {
   "cell_type": "code",
   "execution_count": 2,
   "metadata": {},
   "outputs": [],
   "source": [
    "data = pd.read_csv(\"data/jain.csv\",header=None)"
   ]
  },
  {
   "cell_type": "code",
   "execution_count": 3,
   "metadata": {},
   "outputs": [],
   "source": [
    "X = data[[0,1]]"
   ]
  },
  {
   "cell_type": "code",
   "execution_count": 4,
   "metadata": {},
   "outputs": [],
   "source": [
    "Y = data[2]"
   ]
  },
  {
   "cell_type": "code",
   "execution_count": 5,
   "metadata": {},
   "outputs": [],
   "source": [
    "N = data.shape[0]"
   ]
  },
  {
   "cell_type": "code",
   "execution_count": null,
   "metadata": {},
   "outputs": [],
   "source": []
  },
  {
   "cell_type": "code",
   "execution_count": null,
   "metadata": {},
   "outputs": [],
   "source": []
  },
  {
   "cell_type": "code",
   "execution_count": null,
   "metadata": {},
   "outputs": [],
   "source": [
    "FC = FL.FrisCluster(10)"
   ]
  },
  {
   "cell_type": "code",
   "execution_count": null,
   "metadata": {},
   "outputs": [],
   "source": [
    "%%time\n",
    "FC.fit(X)"
   ]
  },
  {
   "cell_type": "code",
   "execution_count": null,
   "metadata": {},
   "outputs": [],
   "source": [
    "stolps = FC.get_stolp_list()"
   ]
  },
  {
   "cell_type": "code",
   "execution_count": null,
   "metadata": {},
   "outputs": [],
   "source": [
    "\n",
    "markers = ('s', 'x', '+')\n",
    "colors = ('red', 'blue', 'lightgreen','black','yellow','indigo', 'dimgray', 'olive', 'cyan', 'orchid', 'plum', 'sienna', 'wheat', 'azure')\n",
    "cmap = ListedColormap(colors)\n",
    "Y = list(Y)\n",
    "for idx, cl in enumerate(np.unique(Y)):\n",
    "    X_val_1 = []\n",
    "    X_val_2 = []\n",
    "    for i in range(N):\n",
    "        if Y[i] == cl:\n",
    "            \n",
    "            X_val_1.append(X.values[i][0])\n",
    "            X_val_2.append(X.values[i][1])\n",
    "        plt.scatter(x=X_val_1, y=X_val_2, c=cmap(idx), marker='+', label=cl)\n",
    "    for s in stolps:\n",
    "        plt.scatter(x=s[0],y=s[1],c=cmap(13))\n",
    "    for s in new_stolps:\n",
    "        plt.scatter(x=s[0],y=s[1],c=cmap(12))        \n",
    "plt.xlabel('X')\n",
    "plt.ylabel('Y')    \n",
    "\n"
   ]
  },
  {
   "cell_type": "code",
   "execution_count": null,
   "metadata": {},
   "outputs": [],
   "source": [
    "for s in stolps:\n",
    "    plt.scatter(x=s[0],y=s[1])"
   ]
  },
  {
   "cell_type": "code",
   "execution_count": null,
   "metadata": {},
   "outputs": [],
   "source": [
    "nbrs = NearestNeighbors(n_neighbors=1, metric='euclidean').fit(new_stolps)\n",
    "nn = nbrs.kneighbors(X.values, n_neighbors=1, return_distance=False)\n",
    "cluster = X.apply(lambda x: nn[x.name][0], axis=1)"
   ]
  },
  {
   "cell_type": "code",
   "execution_count": null,
   "metadata": {},
   "outputs": [],
   "source": [
    "\n",
    "markers = ('s', 'x', '+')\n",
    "colors = ('red', 'blue', 'lightgreen','black','yellow','indigo', 'dimgray', 'olive', 'cyan', 'orchid', 'plum', 'sienna', 'wheat', 'azure')\n",
    "cmap = ListedColormap(colors)\n",
    "cluster_list = list(cluster)\n",
    "for idx, cl in enumerate(np.unique(cluster)):\n",
    "    X_val_1 = []\n",
    "    X_val_2 = []\n",
    "    for i in range(N):\n",
    "        if cluster_list[i] == cl:\n",
    "            X_val_1.append(X.values[i][0])\n",
    "            X_val_2.append(X.values[i][1])\n",
    "        plt.scatter(x=X_val_1, y=X_val_2, c=cmap(idx), marker='+', label=cl)\n",
    "    #for s in stolps:\n",
    "    #    plt.scatter(x=s[0],y=s[1])\n",
    "plt.xlabel('X')\n",
    "plt.ylabel('Y')    \n"
   ]
  },
  {
   "cell_type": "code",
   "execution_count": null,
   "metadata": {},
   "outputs": [],
   "source": []
  },
  {
   "cell_type": "code",
   "execution_count": null,
   "metadata": {},
   "outputs": [],
   "source": [
    "new_stolps = FC.distribute_stolp_list(stolps,X)"
   ]
  },
  {
   "cell_type": "code",
   "execution_count": null,
   "metadata": {},
   "outputs": [],
   "source": [
    "stolps"
   ]
  },
  {
   "cell_type": "code",
   "execution_count": null,
   "metadata": {},
   "outputs": [],
   "source": [
    "new_stolps"
   ]
  },
  {
   "cell_type": "code",
   "execution_count": null,
   "metadata": {},
   "outputs": [],
   "source": [
    "len(new_stolps)"
   ]
  },
  {
   "cell_type": "code",
   "execution_count": null,
   "metadata": {},
   "outputs": [],
   "source": [
    "cluster_data = X.copy()\n",
    "cluster_data[\"stolp_index\"] = cluster_data.apply(lambda x: nn[x.name][0], axis=1)\n",
    "cluster_data[\"stolp\"] = cluster_data.apply(lambda x: stable_stolps[nn[x.name][0]], axis=1)"
   ]
  },
  {
   "cell_type": "code",
   "execution_count": null,
   "metadata": {},
   "outputs": [],
   "source": []
  },
  {
   "cell_type": "code",
   "execution_count": null,
   "metadata": {},
   "outputs": [],
   "source": []
  },
  {
   "cell_type": "code",
   "execution_count": 6,
   "metadata": {},
   "outputs": [],
   "source": [
    "stable_stolps = [np.array([23. ,  5.6]), np.array([31.65,  6.55]), np.array([17.45, 14.15]),\n",
    "                 np.array([36.3, 10.7]), np.array([26.6,  4.9]),  np.array([21.1,  8. ]), \n",
    "                 np.array([17.45, 20.75]), np.array([38.85, 15.5 ]),  np.array([21.5, 15.5]), np.array([ 7.1 , 18.65])]"
   ]
  },
  {
   "cell_type": "code",
   "execution_count": 7,
   "metadata": {},
   "outputs": [],
   "source": [
    "nbrs = NearestNeighbors(n_neighbors=1, metric='euclidean').fit(stable_stolps)\n",
    "nn = nbrs.kneighbors(X.values, n_neighbors=1, return_distance=False)\n",
    "cluster = X.apply(lambda x: nn[x.name][0], axis=1)"
   ]
  },
  {
   "cell_type": "code",
   "execution_count": 8,
   "metadata": {},
   "outputs": [],
   "source": [
    "def make_pair_combination( array):\n",
    "    return list(filter(lambda x: x[0] != x[1] ,list(itertools.product(array,array))))"
   ]
  },
  {
   "cell_type": "code",
   "execution_count": 9,
   "metadata": {},
   "outputs": [],
   "source": [
    "FrisC = FL.FrisClass(0.5)"
   ]
  },
  {
   "cell_type": "code",
   "execution_count": 10,
   "metadata": {},
   "outputs": [],
   "source": [
    "FrisC.set_stolp_list(stable_stolps)"
   ]
  },
  {
   "cell_type": "code",
   "execution_count": 11,
   "metadata": {},
   "outputs": [],
   "source": [
    "clusters_list = cluster.unique()"
   ]
  },
  {
   "cell_type": "code",
   "execution_count": 12,
   "metadata": {},
   "outputs": [
    {
     "data": {
      "text/plain": [
       "array([9, 6, 8, 2, 5, 0, 4, 1, 3, 7], dtype=int64)"
      ]
     },
     "execution_count": 12,
     "metadata": {},
     "output_type": "execute_result"
    }
   ],
   "source": [
    "clusters_list"
   ]
  },
  {
   "cell_type": "code",
   "execution_count": 13,
   "metadata": {},
   "outputs": [],
   "source": [
    "all_cluster_combinations = FrisC.make_pair_combination(clusters_list)\n"
   ]
  },
  {
   "cell_type": "code",
   "execution_count": 14,
   "metadata": {},
   "outputs": [],
   "source": [
    "cluster_pair = all_cluster_combinations[0]"
   ]
  },
  {
   "cell_type": "code",
   "execution_count": 15,
   "metadata": {},
   "outputs": [
    {
     "name": "stdout",
     "output_type": "stream",
     "text": [
      "[ 0.85 17.45]\n",
      "[array([23. ,  5.6]), array([31.65,  6.55]), array([17.45, 14.15]), array([36.3, 10.7]), array([26.6,  4.9]), array([21.1,  8. ]), array([17.45, 20.75]), array([38.85, 15.5 ]), array([21.5, 15.5]), array([ 7.1 , 18.65])]\n",
      "[ 0.85 17.45]\n",
      "[array([23. ,  5.6]), array([31.65,  6.55]), array([17.45, 14.15]), array([36.3, 10.7]), array([26.6,  4.9]), array([21.1,  8. ]), array([17.45, 20.75]), array([38.85, 15.5 ]), array([21.5, 15.5])]\n",
      "[ 0.75 15.6 ]\n",
      "[array([23. ,  5.6]), array([31.65,  6.55]), array([17.45, 14.15]), array([36.3, 10.7]), array([26.6,  4.9]), array([21.1,  8. ]), array([17.45, 20.75]), array([38.85, 15.5 ]), array([21.5, 15.5]), array([ 7.1 , 18.65])]\n",
      "[ 0.75 15.6 ]\n",
      "[array([23. ,  5.6]), array([31.65,  6.55]), array([17.45, 14.15]), array([36.3, 10.7]), array([26.6,  4.9]), array([21.1,  8. ]), array([17.45, 20.75]), array([38.85, 15.5 ]), array([21.5, 15.5])]\n",
      "[ 3.3  15.45]\n",
      "[array([23. ,  5.6]), array([31.65,  6.55]), array([17.45, 14.15]), array([36.3, 10.7]), array([26.6,  4.9]), array([21.1,  8. ]), array([17.45, 20.75]), array([38.85, 15.5 ]), array([21.5, 15.5]), array([ 7.1 , 18.65])]\n",
      "[ 3.3  15.45]\n",
      "[array([23. ,  5.6]), array([31.65,  6.55]), array([17.45, 14.15]), array([36.3, 10.7]), array([26.6,  4.9]), array([21.1,  8. ]), array([17.45, 20.75]), array([38.85, 15.5 ]), array([21.5, 15.5])]\n",
      "[ 5.25 14.2 ]\n",
      "[array([23. ,  5.6]), array([31.65,  6.55]), array([17.45, 14.15]), array([36.3, 10.7]), array([26.6,  4.9]), array([21.1,  8. ]), array([17.45, 20.75]), array([38.85, 15.5 ]), array([21.5, 15.5]), array([ 7.1 , 18.65])]\n",
      "[ 5.25 14.2 ]\n",
      "[array([23. ,  5.6]), array([31.65,  6.55]), array([17.45, 14.15]), array([36.3, 10.7]), array([26.6,  4.9]), array([21.1,  8. ]), array([17.45, 20.75]), array([38.85, 15.5 ]), array([21.5, 15.5])]\n",
      "[ 4.9  15.65]\n",
      "[array([23. ,  5.6]), array([31.65,  6.55]), array([17.45, 14.15]), array([36.3, 10.7]), array([26.6,  4.9]), array([21.1,  8. ]), array([17.45, 20.75]), array([38.85, 15.5 ]), array([21.5, 15.5]), array([ 7.1 , 18.65])]\n",
      "[ 4.9  15.65]\n",
      "[array([23. ,  5.6]), array([31.65,  6.55]), array([17.45, 14.15]), array([36.3, 10.7]), array([26.6,  4.9]), array([21.1,  8. ]), array([17.45, 20.75]), array([38.85, 15.5 ]), array([21.5, 15.5])]\n",
      "[ 5.35 15.85]\n",
      "[array([23. ,  5.6]), array([31.65,  6.55]), array([17.45, 14.15]), array([36.3, 10.7]), array([26.6,  4.9]), array([21.1,  8. ]), array([17.45, 20.75]), array([38.85, 15.5 ]), array([21.5, 15.5]), array([ 7.1 , 18.65])]\n",
      "[ 5.35 15.85]\n",
      "[array([23. ,  5.6]), array([31.65,  6.55]), array([17.45, 14.15]), array([36.3, 10.7]), array([26.6,  4.9]), array([21.1,  8. ]), array([17.45, 20.75]), array([38.85, 15.5 ]), array([21.5, 15.5])]\n",
      "[ 5.1 17.9]\n",
      "[array([23. ,  5.6]), array([31.65,  6.55]), array([17.45, 14.15]), array([36.3, 10.7]), array([26.6,  4.9]), array([21.1,  8. ]), array([17.45, 20.75]), array([38.85, 15.5 ]), array([21.5, 15.5]), array([ 7.1 , 18.65])]\n",
      "[ 5.1 17.9]\n",
      "[array([23. ,  5.6]), array([31.65,  6.55]), array([17.45, 14.15]), array([36.3, 10.7]), array([26.6,  4.9]), array([21.1,  8. ]), array([17.45, 20.75]), array([38.85, 15.5 ]), array([21.5, 15.5])]\n",
      "[ 4.6  18.25]\n",
      "[array([23. ,  5.6]), array([31.65,  6.55]), array([17.45, 14.15]), array([36.3, 10.7]), array([26.6,  4.9]), array([21.1,  8. ]), array([17.45, 20.75]), array([38.85, 15.5 ]), array([21.5, 15.5]), array([ 7.1 , 18.65])]\n",
      "[ 4.6  18.25]\n",
      "[array([23. ,  5.6]), array([31.65,  6.55]), array([17.45, 14.15]), array([36.3, 10.7]), array([26.6,  4.9]), array([21.1,  8. ]), array([17.45, 20.75]), array([38.85, 15.5 ]), array([21.5, 15.5])]\n",
      "[ 4.05 18.75]\n",
      "[array([23. ,  5.6]), array([31.65,  6.55]), array([17.45, 14.15]), array([36.3, 10.7]), array([26.6,  4.9]), array([21.1,  8. ]), array([17.45, 20.75]), array([38.85, 15.5 ]), array([21.5, 15.5]), array([ 7.1 , 18.65])]\n",
      "[ 4.05 18.75]\n",
      "[array([23. ,  5.6]), array([31.65,  6.55]), array([17.45, 14.15]), array([36.3, 10.7]), array([26.6,  4.9]), array([21.1,  8. ]), array([17.45, 20.75]), array([38.85, 15.5 ]), array([21.5, 15.5])]\n",
      "[ 3.4 19.7]\n",
      "[array([23. ,  5.6]), array([31.65,  6.55]), array([17.45, 14.15]), array([36.3, 10.7]), array([26.6,  4.9]), array([21.1,  8. ]), array([17.45, 20.75]), array([38.85, 15.5 ]), array([21.5, 15.5]), array([ 7.1 , 18.65])]\n",
      "[ 3.4 19.7]\n",
      "[array([23. ,  5.6]), array([31.65,  6.55]), array([17.45, 14.15]), array([36.3, 10.7]), array([26.6,  4.9]), array([21.1,  8. ]), array([17.45, 20.75]), array([38.85, 15.5 ]), array([21.5, 15.5])]\n",
      "[ 2.9  21.15]\n",
      "[array([23. ,  5.6]), array([31.65,  6.55]), array([17.45, 14.15]), array([36.3, 10.7]), array([26.6,  4.9]), array([21.1,  8. ]), array([17.45, 20.75]), array([38.85, 15.5 ]), array([21.5, 15.5]), array([ 7.1 , 18.65])]\n",
      "[ 2.9  21.15]\n",
      "[array([23. ,  5.6]), array([31.65,  6.55]), array([17.45, 14.15]), array([36.3, 10.7]), array([26.6,  4.9]), array([21.1,  8. ]), array([17.45, 20.75]), array([38.85, 15.5 ]), array([21.5, 15.5])]\n",
      "[ 3.1  21.85]\n",
      "[array([23. ,  5.6]), array([31.65,  6.55]), array([17.45, 14.15]), array([36.3, 10.7]), array([26.6,  4.9]), array([21.1,  8. ]), array([17.45, 20.75]), array([38.85, 15.5 ]), array([21.5, 15.5]), array([ 7.1 , 18.65])]\n",
      "[ 3.1  21.85]\n",
      "[array([23. ,  5.6]), array([31.65,  6.55]), array([17.45, 14.15]), array([36.3, 10.7]), array([26.6,  4.9]), array([21.1,  8. ]), array([17.45, 20.75]), array([38.85, 15.5 ]), array([21.5, 15.5])]\n",
      "[ 3.9  21.85]\n",
      "[array([23. ,  5.6]), array([31.65,  6.55]), array([17.45, 14.15]), array([36.3, 10.7]), array([26.6,  4.9]), array([21.1,  8. ]), array([17.45, 20.75]), array([38.85, 15.5 ]), array([21.5, 15.5]), array([ 7.1 , 18.65])]\n",
      "[ 3.9  21.85]\n",
      "[array([23. ,  5.6]), array([31.65,  6.55]), array([17.45, 14.15]), array([36.3, 10.7]), array([26.6,  4.9]), array([21.1,  8. ]), array([17.45, 20.75]), array([38.85, 15.5 ]), array([21.5, 15.5])]\n",
      "[ 4.4  20.05]\n",
      "[array([23. ,  5.6]), array([31.65,  6.55]), array([17.45, 14.15]), array([36.3, 10.7]), array([26.6,  4.9]), array([21.1,  8. ]), array([17.45, 20.75]), array([38.85, 15.5 ]), array([21.5, 15.5]), array([ 7.1 , 18.65])]\n",
      "[ 4.4  20.05]\n",
      "[array([23. ,  5.6]), array([31.65,  6.55]), array([17.45, 14.15]), array([36.3, 10.7]), array([26.6,  4.9]), array([21.1,  8. ]), array([17.45, 20.75]), array([38.85, 15.5 ]), array([21.5, 15.5])]\n",
      "[ 7.2 14.5]\n",
      "[array([23. ,  5.6]), array([31.65,  6.55]), array([17.45, 14.15]), array([36.3, 10.7]), array([26.6,  4.9]), array([21.1,  8. ]), array([17.45, 20.75]), array([38.85, 15.5 ]), array([21.5, 15.5]), array([ 7.1 , 18.65])]\n",
      "[ 7.2 14.5]\n",
      "[array([23. ,  5.6]), array([31.65,  6.55]), array([17.45, 14.15]), array([36.3, 10.7]), array([26.6,  4.9]), array([21.1,  8. ]), array([17.45, 20.75]), array([38.85, 15.5 ]), array([21.5, 15.5])]\n",
      "[ 7.65 16.5 ]\n",
      "[array([23. ,  5.6]), array([31.65,  6.55]), array([17.45, 14.15]), array([36.3, 10.7]), array([26.6,  4.9]), array([21.1,  8. ]), array([17.45, 20.75]), array([38.85, 15.5 ]), array([21.5, 15.5]), array([ 7.1 , 18.65])]\n",
      "[ 7.65 16.5 ]\n",
      "[array([23. ,  5.6]), array([31.65,  6.55]), array([17.45, 14.15]), array([36.3, 10.7]), array([26.6,  4.9]), array([21.1,  8. ]), array([17.45, 20.75]), array([38.85, 15.5 ]), array([21.5, 15.5])]\n",
      "[ 7.1  18.65]\n",
      "[array([23. ,  5.6]), array([31.65,  6.55]), array([17.45, 14.15]), array([36.3, 10.7]), array([26.6,  4.9]), array([21.1,  8. ]), array([17.45, 20.75]), array([38.85, 15.5 ]), array([21.5, 15.5]), array([ 7.1 , 18.65])]\n",
      "[ 7.1  18.65]\n",
      "[array([23. ,  5.6]), array([31.65,  6.55]), array([17.45, 14.15]), array([36.3, 10.7]), array([26.6,  4.9]), array([21.1,  8. ]), array([17.45, 20.75]), array([38.85, 15.5 ]), array([21.5, 15.5])]\n",
      "[ 7.05 19.9 ]\n",
      "[array([23. ,  5.6]), array([31.65,  6.55]), array([17.45, 14.15]), array([36.3, 10.7]), array([26.6,  4.9]), array([21.1,  8. ]), array([17.45, 20.75]), array([38.85, 15.5 ]), array([21.5, 15.5]), array([ 7.1 , 18.65])]\n",
      "[ 7.05 19.9 ]\n",
      "[array([23. ,  5.6]), array([31.65,  6.55]), array([17.45, 14.15]), array([36.3, 10.7]), array([26.6,  4.9]), array([21.1,  8. ]), array([17.45, 20.75]), array([38.85, 15.5 ]), array([21.5, 15.5])]\n",
      "[ 5.85 20.55]\n",
      "[array([23. ,  5.6]), array([31.65,  6.55]), array([17.45, 14.15]), array([36.3, 10.7]), array([26.6,  4.9]), array([21.1,  8. ]), array([17.45, 20.75]), array([38.85, 15.5 ]), array([21.5, 15.5]), array([ 7.1 , 18.65])]\n",
      "[ 5.85 20.55]\n",
      "[array([23. ,  5.6]), array([31.65,  6.55]), array([17.45, 14.15]), array([36.3, 10.7]), array([26.6,  4.9]), array([21.1,  8. ]), array([17.45, 20.75]), array([38.85, 15.5 ]), array([21.5, 15.5])]\n",
      "[ 5.5 21.8]\n",
      "[array([23. ,  5.6]), array([31.65,  6.55]), array([17.45, 14.15]), array([36.3, 10.7]), array([26.6,  4.9]), array([21.1,  8. ]), array([17.45, 20.75]), array([38.85, 15.5 ]), array([21.5, 15.5]), array([ 7.1 , 18.65])]\n",
      "[ 5.5 21.8]\n",
      "[array([23. ,  5.6]), array([31.65,  6.55]), array([17.45, 14.15]), array([36.3, 10.7]), array([26.6,  4.9]), array([21.1,  8. ]), array([17.45, 20.75]), array([38.85, 15.5 ]), array([21.5, 15.5])]\n",
      "[ 6.55 21.8 ]\n",
      "[array([23. ,  5.6]), array([31.65,  6.55]), array([17.45, 14.15]), array([36.3, 10.7]), array([26.6,  4.9]), array([21.1,  8. ]), array([17.45, 20.75]), array([38.85, 15.5 ]), array([21.5, 15.5]), array([ 7.1 , 18.65])]\n",
      "[ 6.55 21.8 ]\n",
      "[array([23. ,  5.6]), array([31.65,  6.55]), array([17.45, 14.15]), array([36.3, 10.7]), array([26.6,  4.9]), array([21.1,  8. ]), array([17.45, 20.75]), array([38.85, 15.5 ]), array([21.5, 15.5])]\n",
      "[ 6.05 22.3 ]\n",
      "[array([23. ,  5.6]), array([31.65,  6.55]), array([17.45, 14.15]), array([36.3, 10.7]), array([26.6,  4.9]), array([21.1,  8. ]), array([17.45, 20.75]), array([38.85, 15.5 ]), array([21.5, 15.5]), array([ 7.1 , 18.65])]\n",
      "[ 6.05 22.3 ]\n",
      "[array([23. ,  5.6]), array([31.65,  6.55]), array([17.45, 14.15]), array([36.3, 10.7]), array([26.6,  4.9]), array([21.1,  8. ]), array([17.45, 20.75]), array([38.85, 15.5 ]), array([21.5, 15.5])]\n",
      "[ 5.2 23.4]\n",
      "[array([23. ,  5.6]), array([31.65,  6.55]), array([17.45, 14.15]), array([36.3, 10.7]), array([26.6,  4.9]), array([21.1,  8. ]), array([17.45, 20.75]), array([38.85, 15.5 ]), array([21.5, 15.5]), array([ 7.1 , 18.65])]\n",
      "[ 5.2 23.4]\n",
      "[array([23. ,  5.6]), array([31.65,  6.55]), array([17.45, 14.15]), array([36.3, 10.7]), array([26.6,  4.9]), array([21.1,  8. ]), array([17.45, 20.75]), array([38.85, 15.5 ]), array([21.5, 15.5])]\n",
      "[ 4.55 23.9 ]\n",
      "[array([23. ,  5.6]), array([31.65,  6.55]), array([17.45, 14.15]), array([36.3, 10.7]), array([26.6,  4.9]), array([21.1,  8. ]), array([17.45, 20.75]), array([38.85, 15.5 ]), array([21.5, 15.5]), array([ 7.1 , 18.65])]\n",
      "[ 4.55 23.9 ]\n",
      "[array([23. ,  5.6]), array([31.65,  6.55]), array([17.45, 14.15]), array([36.3, 10.7]), array([26.6,  4.9]), array([21.1,  8. ]), array([17.45, 20.75]), array([38.85, 15.5 ]), array([21.5, 15.5])]\n",
      "[ 5.1 24.4]\n",
      "[array([23. ,  5.6]), array([31.65,  6.55]), array([17.45, 14.15]), array([36.3, 10.7]), array([26.6,  4.9]), array([21.1,  8. ]), array([17.45, 20.75]), array([38.85, 15.5 ]), array([21.5, 15.5]), array([ 7.1 , 18.65])]\n",
      "[ 5.1 24.4]\n",
      "[array([23. ,  5.6]), array([31.65,  6.55]), array([17.45, 14.15]), array([36.3, 10.7]), array([26.6,  4.9]), array([21.1,  8. ]), array([17.45, 20.75]), array([38.85, 15.5 ]), array([21.5, 15.5])]\n",
      "[ 8.1  26.35]\n",
      "[array([23. ,  5.6]), array([31.65,  6.55]), array([17.45, 14.15]), array([36.3, 10.7]), array([26.6,  4.9]), array([21.1,  8. ]), array([17.45, 20.75]), array([38.85, 15.5 ]), array([21.5, 15.5]), array([ 7.1 , 18.65])]\n",
      "[ 8.1  26.35]\n",
      "[array([23. ,  5.6]), array([31.65,  6.55]), array([17.45, 14.15]), array([36.3, 10.7]), array([26.6,  4.9]), array([21.1,  8. ]), array([17.45, 20.75]), array([38.85, 15.5 ]), array([21.5, 15.5])]\n",
      "[10.15 27.7 ]\n",
      "[array([23. ,  5.6]), array([31.65,  6.55]), array([17.45, 14.15]), array([36.3, 10.7]), array([26.6,  4.9]), array([21.1,  8. ]), array([17.45, 20.75]), array([38.85, 15.5 ]), array([21.5, 15.5]), array([ 7.1 , 18.65])]\n",
      "[10.15 27.7 ]\n",
      "[array([23. ,  5.6]), array([31.65,  6.55]), array([17.45, 14.15]), array([36.3, 10.7]), array([26.6,  4.9]), array([21.1,  8. ]), array([17.45, 20.75]), array([38.85, 15.5 ]), array([21.5, 15.5])]\n",
      "[ 9.75 25.5 ]\n",
      "[array([23. ,  5.6]), array([31.65,  6.55]), array([17.45, 14.15]), array([36.3, 10.7]), array([26.6,  4.9]), array([21.1,  8. ]), array([17.45, 20.75]), array([38.85, 15.5 ]), array([21.5, 15.5]), array([ 7.1 , 18.65])]\n",
      "[ 9.75 25.5 ]\n",
      "[array([23. ,  5.6]), array([31.65,  6.55]), array([17.45, 14.15]), array([36.3, 10.7]), array([26.6,  4.9]), array([21.1,  8. ]), array([17.45, 20.75]), array([38.85, 15.5 ]), array([21.5, 15.5])]\n",
      "[ 9.2 21.1]\n",
      "[array([23. ,  5.6]), array([31.65,  6.55]), array([17.45, 14.15]), array([36.3, 10.7]), array([26.6,  4.9]), array([21.1,  8. ]), array([17.45, 20.75]), array([38.85, 15.5 ]), array([21.5, 15.5]), array([ 7.1 , 18.65])]\n",
      "[ 9.2 21.1]\n",
      "[array([23. ,  5.6]), array([31.65,  6.55]), array([17.45, 14.15]), array([36.3, 10.7]), array([26.6,  4.9]), array([21.1,  8. ]), array([17.45, 20.75]), array([38.85, 15.5 ]), array([21.5, 15.5])]\n",
      "[11.2 22.8]\n",
      "[array([23. ,  5.6]), array([31.65,  6.55]), array([17.45, 14.15]), array([36.3, 10.7]), array([26.6,  4.9]), array([21.1,  8. ]), array([17.45, 20.75]), array([38.85, 15.5 ]), array([21.5, 15.5]), array([ 7.1 , 18.65])]\n",
      "[11.2 22.8]\n",
      "[array([23. ,  5.6]), array([31.65,  6.55]), array([17.45, 14.15]), array([36.3, 10.7]), array([26.6,  4.9]), array([21.1,  8. ]), array([17.45, 20.75]), array([38.85, 15.5 ]), array([21.5, 15.5])]\n",
      "[12.6 23.1]\n",
      "[array([23. ,  5.6]), array([31.65,  6.55]), array([17.45, 14.15]), array([36.3, 10.7]), array([26.6,  4.9]), array([21.1,  8. ]), array([17.45, 20.75]), array([38.85, 15.5 ]), array([21.5, 15.5]), array([ 7.1 , 18.65])]\n",
      "[12.6 23.1]\n",
      "[array([23. ,  5.6]), array([31.65,  6.55]), array([36.3, 10.7]), array([26.6,  4.9]), array([21.1,  8. ]), array([38.85, 15.5 ]), array([21.5, 15.5]), array([ 7.1 , 18.65])]\n",
      "[13.25 23.5 ]\n",
      "[array([23. ,  5.6]), array([31.65,  6.55]), array([17.45, 14.15]), array([36.3, 10.7]), array([26.6,  4.9]), array([21.1,  8. ]), array([17.45, 20.75]), array([38.85, 15.5 ]), array([21.5, 15.5]), array([ 7.1 , 18.65])]\n",
      "[13.25 23.5 ]\n",
      "[array([23. ,  5.6]), array([31.65,  6.55]), array([36.3, 10.7]), array([26.6,  4.9]), array([21.1,  8. ]), array([38.85, 15.5 ]), array([21.5, 15.5]), array([ 7.1 , 18.65])]\n",
      "[11.65 26.85]\n",
      "[array([23. ,  5.6]), array([31.65,  6.55]), array([17.45, 14.15]), array([36.3, 10.7]), array([26.6,  4.9]), array([21.1,  8. ]), array([17.45, 20.75]), array([38.85, 15.5 ]), array([21.5, 15.5]), array([ 7.1 , 18.65])]\n",
      "[11.65 26.85]\n",
      "[array([23. ,  5.6]), array([31.65,  6.55]), array([36.3, 10.7]), array([26.6,  4.9]), array([21.1,  8. ]), array([38.85, 15.5 ]), array([21.5, 15.5]), array([ 7.1 , 18.65])]\n",
      "[12.45 27.55]\n",
      "[array([23. ,  5.6]), array([31.65,  6.55]), array([17.45, 14.15]), array([36.3, 10.7]), array([26.6,  4.9]), array([21.1,  8. ]), array([17.45, 20.75]), array([38.85, 15.5 ]), array([21.5, 15.5]), array([ 7.1 , 18.65])]\n",
      "[12.45 27.55]\n",
      "[array([23. ,  5.6]), array([31.65,  6.55]), array([36.3, 10.7]), array([26.6,  4.9]), array([21.1,  8. ]), array([38.85, 15.5 ]), array([21.5, 15.5]), array([ 7.1 , 18.65])]\n",
      "[13.3  27.85]\n",
      "[array([23. ,  5.6]), array([31.65,  6.55]), array([17.45, 14.15]), array([36.3, 10.7]), array([26.6,  4.9]), array([21.1,  8. ]), array([17.45, 20.75]), array([38.85, 15.5 ]), array([21.5, 15.5]), array([ 7.1 , 18.65])]\n",
      "[13.3  27.85]\n",
      "[array([23. ,  5.6]), array([31.65,  6.55]), array([36.3, 10.7]), array([26.6,  4.9]), array([21.1,  8. ]), array([38.85, 15.5 ]), array([21.5, 15.5]), array([ 7.1 , 18.65])]\n",
      "[13.7  27.75]\n",
      "[array([23. ,  5.6]), array([31.65,  6.55]), array([17.45, 14.15]), array([36.3, 10.7]), array([26.6,  4.9]), array([21.1,  8. ]), array([17.45, 20.75]), array([38.85, 15.5 ]), array([21.5, 15.5]), array([ 7.1 , 18.65])]\n",
      "[13.7  27.75]\n",
      "[array([23. ,  5.6]), array([31.65,  6.55]), array([36.3, 10.7]), array([26.6,  4.9]), array([21.1,  8. ]), array([38.85, 15.5 ]), array([21.5, 15.5]), array([ 7.1 , 18.65])]\n",
      "[14.15 26.9 ]\n",
      "[array([23. ,  5.6]), array([31.65,  6.55]), array([17.45, 14.15]), array([36.3, 10.7]), array([26.6,  4.9]), array([21.1,  8. ]), array([17.45, 20.75]), array([38.85, 15.5 ]), array([21.5, 15.5]), array([ 7.1 , 18.65])]\n",
      "[14.15 26.9 ]\n",
      "[array([23. ,  5.6]), array([31.65,  6.55]), array([36.3, 10.7]), array([26.6,  4.9]), array([21.1,  8. ]), array([38.85, 15.5 ]), array([21.5, 15.5]), array([ 7.1 , 18.65])]\n",
      "[14.05 26.55]\n",
      "[array([23. ,  5.6]), array([31.65,  6.55]), array([17.45, 14.15]), array([36.3, 10.7]), array([26.6,  4.9]), array([21.1,  8. ]), array([17.45, 20.75]), array([38.85, 15.5 ]), array([21.5, 15.5]), array([ 7.1 , 18.65])]\n",
      "[14.05 26.55]\n",
      "[array([23. ,  5.6]), array([31.65,  6.55]), array([36.3, 10.7]), array([26.6,  4.9]), array([21.1,  8. ]), array([38.85, 15.5 ]), array([21.5, 15.5]), array([ 7.1 , 18.65])]\n",
      "[15.15 24.2 ]\n",
      "[array([23. ,  5.6]), array([31.65,  6.55]), array([17.45, 14.15]), array([36.3, 10.7]), array([26.6,  4.9]), array([21.1,  8. ]), array([17.45, 20.75]), array([38.85, 15.5 ]), array([21.5, 15.5]), array([ 7.1 , 18.65])]\n",
      "[15.15 24.2 ]\n",
      "[array([23. ,  5.6]), array([31.65,  6.55]), array([36.3, 10.7]), array([26.6,  4.9]), array([21.1,  8. ]), array([38.85, 15.5 ]), array([21.5, 15.5]), array([ 7.1 , 18.65])]\n",
      "[15.2  24.75]\n",
      "[array([23. ,  5.6]), array([31.65,  6.55]), array([17.45, 14.15]), array([36.3, 10.7]), array([26.6,  4.9]), array([21.1,  8. ]), array([17.45, 20.75]), array([38.85, 15.5 ]), array([21.5, 15.5]), array([ 7.1 , 18.65])]\n",
      "[15.2  24.75]\n",
      "[array([23. ,  5.6]), array([31.65,  6.55]), array([36.3, 10.7]), array([26.6,  4.9]), array([21.1,  8. ]), array([38.85, 15.5 ]), array([21.5, 15.5]), array([ 7.1 , 18.65])]\n",
      "[12.2 20.9]\n",
      "[array([23. ,  5.6]), array([31.65,  6.55]), array([17.45, 14.15]), array([36.3, 10.7]), array([26.6,  4.9]), array([21.1,  8. ]), array([17.45, 20.75]), array([38.85, 15.5 ]), array([21.5, 15.5]), array([ 7.1 , 18.65])]\n",
      "[12.2 20.9]\n",
      "[array([23. ,  5.6]), array([31.65,  6.55]), array([36.3, 10.7]), array([26.6,  4.9]), array([21.1,  8. ]), array([38.85, 15.5 ]), array([21.5, 15.5]), array([ 7.1 , 18.65])]\n",
      "[12.15 21.45]\n",
      "[array([23. ,  5.6]), array([31.65,  6.55]), array([17.45, 14.15]), array([36.3, 10.7]), array([26.6,  4.9]), array([21.1,  8. ]), array([17.45, 20.75]), array([38.85, 15.5 ]), array([21.5, 15.5]), array([ 7.1 , 18.65])]\n",
      "[12.15 21.45]\n",
      "[array([23. ,  5.6]), array([31.65,  6.55]), array([36.3, 10.7]), array([26.6,  4.9]), array([21.1,  8. ]), array([38.85, 15.5 ]), array([21.5, 15.5]), array([ 7.1 , 18.65])]\n",
      "[12.75 22.05]\n",
      "[array([23. ,  5.6]), array([31.65,  6.55]), array([17.45, 14.15]), array([36.3, 10.7]), array([26.6,  4.9]), array([21.1,  8. ]), array([17.45, 20.75]), array([38.85, 15.5 ]), array([21.5, 15.5]), array([ 7.1 , 18.65])]\n",
      "[12.75 22.05]\n",
      "[array([23. ,  5.6]), array([31.65,  6.55]), array([36.3, 10.7]), array([26.6,  4.9]), array([21.1,  8. ]), array([38.85, 15.5 ]), array([21.5, 15.5]), array([ 7.1 , 18.65])]\n",
      "[13.15 21.85]\n",
      "[array([23. ,  5.6]), array([31.65,  6.55]), array([17.45, 14.15]), array([36.3, 10.7]), array([26.6,  4.9]), array([21.1,  8. ]), array([17.45, 20.75]), array([38.85, 15.5 ]), array([21.5, 15.5]), array([ 7.1 , 18.65])]\n",
      "[13.15 21.85]\n",
      "[array([23. ,  5.6]), array([31.65,  6.55]), array([36.3, 10.7]), array([26.6,  4.9]), array([21.1,  8. ]), array([38.85, 15.5 ]), array([21.5, 15.5]), array([ 7.1 , 18.65])]\n",
      "[13.75 22.  ]\n",
      "[array([23. ,  5.6]), array([31.65,  6.55]), array([17.45, 14.15]), array([36.3, 10.7]), array([26.6,  4.9]), array([21.1,  8. ]), array([17.45, 20.75]), array([38.85, 15.5 ]), array([21.5, 15.5]), array([ 7.1 , 18.65])]\n",
      "[13.75 22.  ]\n",
      "[array([23. ,  5.6]), array([31.65,  6.55]), array([36.3, 10.7]), array([26.6,  4.9]), array([21.1,  8. ]), array([38.85, 15.5 ]), array([21.5, 15.5]), array([ 7.1 , 18.65])]\n",
      "[13.95 22.7 ]\n",
      "[array([23. ,  5.6]), array([31.65,  6.55]), array([17.45, 14.15]), array([36.3, 10.7]), array([26.6,  4.9]), array([21.1,  8. ]), array([17.45, 20.75]), array([38.85, 15.5 ]), array([21.5, 15.5]), array([ 7.1 , 18.65])]\n",
      "[13.95 22.7 ]\n",
      "[array([23. ,  5.6]), array([31.65,  6.55]), array([36.3, 10.7]), array([26.6,  4.9]), array([21.1,  8. ]), array([38.85, 15.5 ]), array([21.5, 15.5]), array([ 7.1 , 18.65])]\n",
      "[14.4  22.65]\n",
      "[array([23. ,  5.6]), array([31.65,  6.55]), array([17.45, 14.15]), array([36.3, 10.7]), array([26.6,  4.9]), array([21.1,  8. ]), array([17.45, 20.75]), array([38.85, 15.5 ]), array([21.5, 15.5]), array([ 7.1 , 18.65])]\n",
      "[14.4  22.65]\n",
      "[array([23. ,  5.6]), array([31.65,  6.55]), array([36.3, 10.7]), array([26.6,  4.9]), array([21.1,  8. ]), array([38.85, 15.5 ]), array([21.5, 15.5]), array([ 7.1 , 18.65])]\n",
      "[14.2  22.15]\n",
      "[array([23. ,  5.6]), array([31.65,  6.55]), array([17.45, 14.15]), array([36.3, 10.7]), array([26.6,  4.9]), array([21.1,  8. ]), array([17.45, 20.75]), array([38.85, 15.5 ]), array([21.5, 15.5]), array([ 7.1 , 18.65])]\n",
      "[14.2  22.15]\n",
      "[array([23. ,  5.6]), array([31.65,  6.55]), array([36.3, 10.7]), array([26.6,  4.9]), array([21.1,  8. ]), array([38.85, 15.5 ]), array([21.5, 15.5]), array([ 7.1 , 18.65])]\n",
      "[14.1  21.75]\n",
      "[array([23. ,  5.6]), array([31.65,  6.55]), array([17.45, 14.15]), array([36.3, 10.7]), array([26.6,  4.9]), array([21.1,  8. ]), array([17.45, 20.75]), array([38.85, 15.5 ]), array([21.5, 15.5]), array([ 7.1 , 18.65])]\n",
      "[14.1  21.75]\n",
      "[array([23. ,  5.6]), array([31.65,  6.55]), array([36.3, 10.7]), array([26.6,  4.9]), array([21.1,  8. ]), array([38.85, 15.5 ]), array([21.5, 15.5]), array([ 7.1 , 18.65])]\n",
      "[14.05 21.4 ]\n",
      "[array([23. ,  5.6]), array([31.65,  6.55]), array([17.45, 14.15]), array([36.3, 10.7]), array([26.6,  4.9]), array([21.1,  8. ]), array([17.45, 20.75]), array([38.85, 15.5 ]), array([21.5, 15.5]), array([ 7.1 , 18.65])]\n",
      "[14.05 21.4 ]\n",
      "[array([23. ,  5.6]), array([31.65,  6.55]), array([36.3, 10.7]), array([26.6,  4.9]), array([21.1,  8. ]), array([38.85, 15.5 ]), array([21.5, 15.5]), array([ 7.1 , 18.65])]\n",
      "[17.2 24.8]\n",
      "[array([23. ,  5.6]), array([31.65,  6.55]), array([17.45, 14.15]), array([36.3, 10.7]), array([26.6,  4.9]), array([21.1,  8. ]), array([17.45, 20.75]), array([38.85, 15.5 ]), array([21.5, 15.5]), array([ 7.1 , 18.65])]\n",
      "[17.2 24.8]\n",
      "[array([23. ,  5.6]), array([31.65,  6.55]), array([36.3, 10.7]), array([26.6,  4.9]), array([21.1,  8. ]), array([38.85, 15.5 ]), array([21.5, 15.5]), array([ 7.1 , 18.65])]\n",
      "[17.7  24.85]\n",
      "[array([23. ,  5.6]), array([31.65,  6.55]), array([17.45, 14.15]), array([36.3, 10.7]), array([26.6,  4.9]), array([21.1,  8. ]), array([17.45, 20.75]), array([38.85, 15.5 ]), array([21.5, 15.5]), array([ 7.1 , 18.65])]\n",
      "[17.7  24.85]\n",
      "[array([23. ,  5.6]), array([31.65,  6.55]), array([36.3, 10.7]), array([26.6,  4.9]), array([21.1,  8. ]), array([38.85, 15.5 ]), array([21.5, 15.5]), array([ 7.1 , 18.65])]\n",
      "[17.55 25.2 ]\n",
      "[array([23. ,  5.6]), array([31.65,  6.55]), array([17.45, 14.15]), array([36.3, 10.7]), array([26.6,  4.9]), array([21.1,  8. ]), array([17.45, 20.75]), array([38.85, 15.5 ]), array([21.5, 15.5]), array([ 7.1 , 18.65])]\n",
      "[17.55 25.2 ]\n",
      "[array([23. ,  5.6]), array([31.65,  6.55]), array([36.3, 10.7]), array([26.6,  4.9]), array([21.1,  8. ]), array([38.85, 15.5 ]), array([21.5, 15.5]), array([ 7.1 , 18.65])]\n",
      "[17.   26.85]\n",
      "[array([23. ,  5.6]), array([31.65,  6.55]), array([17.45, 14.15]), array([36.3, 10.7]), array([26.6,  4.9]), array([21.1,  8. ]), array([17.45, 20.75]), array([38.85, 15.5 ]), array([21.5, 15.5]), array([ 7.1 , 18.65])]\n",
      "[17.   26.85]\n",
      "[array([23. ,  5.6]), array([31.65,  6.55]), array([36.3, 10.7]), array([26.6,  4.9]), array([21.1,  8. ]), array([38.85, 15.5 ]), array([21.5, 15.5]), array([ 7.1 , 18.65])]\n",
      "[16.55 27.1 ]\n",
      "[array([23. ,  5.6]), array([31.65,  6.55]), array([17.45, 14.15]), array([36.3, 10.7]), array([26.6,  4.9]), array([21.1,  8. ]), array([17.45, 20.75]), array([38.85, 15.5 ]), array([21.5, 15.5]), array([ 7.1 , 18.65])]\n",
      "[16.55 27.1 ]\n",
      "[array([23. ,  5.6]), array([31.65,  6.55]), array([36.3, 10.7]), array([26.6,  4.9]), array([21.1,  8. ]), array([38.85, 15.5 ]), array([21.5, 15.5]), array([ 7.1 , 18.65])]\n",
      "[19.15 25.35]\n",
      "[array([23. ,  5.6]), array([31.65,  6.55]), array([17.45, 14.15]), array([36.3, 10.7]), array([26.6,  4.9]), array([21.1,  8. ]), array([17.45, 20.75]), array([38.85, 15.5 ]), array([21.5, 15.5]), array([ 7.1 , 18.65])]\n",
      "[19.15 25.35]\n",
      "[array([23. ,  5.6]), array([31.65,  6.55]), array([36.3, 10.7]), array([26.6,  4.9]), array([21.1,  8. ]), array([38.85, 15.5 ]), array([21.5, 15.5]), array([ 7.1 , 18.65])]\n",
      "[18.8 24.7]\n",
      "[array([23. ,  5.6]), array([31.65,  6.55]), array([17.45, 14.15]), array([36.3, 10.7]), array([26.6,  4.9]), array([21.1,  8. ]), array([17.45, 20.75]), array([38.85, 15.5 ]), array([21.5, 15.5]), array([ 7.1 , 18.65])]\n",
      "[18.8 24.7]\n",
      "[array([23. ,  5.6]), array([31.65,  6.55]), array([36.3, 10.7]), array([26.6,  4.9]), array([21.1,  8. ]), array([38.85, 15.5 ]), array([21.5, 15.5]), array([ 7.1 , 18.65])]\n",
      "[21.4  25.85]\n",
      "[array([23. ,  5.6]), array([31.65,  6.55]), array([17.45, 14.15]), array([36.3, 10.7]), array([26.6,  4.9]), array([21.1,  8. ]), array([17.45, 20.75]), array([38.85, 15.5 ]), array([21.5, 15.5]), array([ 7.1 , 18.65])]\n",
      "[21.4  25.85]\n",
      "[array([23. ,  5.6]), array([31.65,  6.55]), array([36.3, 10.7]), array([26.6,  4.9]), array([21.1,  8. ]), array([38.85, 15.5 ]), array([21.5, 15.5]), array([ 7.1 , 18.65])]\n",
      "[15.8  21.35]\n",
      "[array([23. ,  5.6]), array([31.65,  6.55]), array([17.45, 14.15]), array([36.3, 10.7]), array([26.6,  4.9]), array([21.1,  8. ]), array([17.45, 20.75]), array([38.85, 15.5 ]), array([21.5, 15.5]), array([ 7.1 , 18.65])]\n",
      "[15.8  21.35]\n",
      "[array([23. ,  5.6]), array([31.65,  6.55]), array([36.3, 10.7]), array([26.6,  4.9]), array([21.1,  8. ]), array([38.85, 15.5 ]), array([21.5, 15.5]), array([ 7.1 , 18.65])]\n",
      "[16.6  21.15]\n",
      "[array([23. ,  5.6]), array([31.65,  6.55]), array([17.45, 14.15]), array([36.3, 10.7]), array([26.6,  4.9]), array([21.1,  8. ]), array([17.45, 20.75]), array([38.85, 15.5 ]), array([21.5, 15.5]), array([ 7.1 , 18.65])]\n",
      "[16.6  21.15]\n",
      "[array([23. ,  5.6]), array([31.65,  6.55]), array([36.3, 10.7]), array([26.6,  4.9]), array([21.1,  8. ]), array([38.85, 15.5 ]), array([21.5, 15.5]), array([ 7.1 , 18.65])]\n",
      "[17.45 20.75]\n",
      "[array([23. ,  5.6]), array([31.65,  6.55]), array([17.45, 14.15]), array([36.3, 10.7]), array([26.6,  4.9]), array([21.1,  8. ]), array([17.45, 20.75]), array([38.85, 15.5 ]), array([21.5, 15.5]), array([ 7.1 , 18.65])]\n",
      "[17.45 20.75]\n",
      "[array([23. ,  5.6]), array([31.65,  6.55]), array([36.3, 10.7]), array([26.6,  4.9]), array([21.1,  8. ]), array([38.85, 15.5 ]), array([21.5, 15.5]), array([ 7.1 , 18.65])]\n",
      "[18.   20.95]\n",
      "[array([23. ,  5.6]), array([31.65,  6.55]), array([17.45, 14.15]), array([36.3, 10.7]), array([26.6,  4.9]), array([21.1,  8. ]), array([17.45, 20.75]), array([38.85, 15.5 ]), array([21.5, 15.5]), array([ 7.1 , 18.65])]\n",
      "[18.   20.95]\n",
      "[array([23. ,  5.6]), array([31.65,  6.55]), array([36.3, 10.7]), array([26.6,  4.9]), array([21.1,  8. ]), array([38.85, 15.5 ]), array([21.5, 15.5]), array([ 7.1 , 18.65])]\n",
      "[18.25 20.2 ]\n",
      "[array([23. ,  5.6]), array([31.65,  6.55]), array([17.45, 14.15]), array([36.3, 10.7]), array([26.6,  4.9]), array([21.1,  8. ]), array([17.45, 20.75]), array([38.85, 15.5 ]), array([21.5, 15.5]), array([ 7.1 , 18.65])]\n",
      "[18.25 20.2 ]\n",
      "[array([23. ,  5.6]), array([31.65,  6.55]), array([36.3, 10.7]), array([26.6,  4.9]), array([21.1,  8. ]), array([38.85, 15.5 ]), array([21.5, 15.5]), array([ 7.1 , 18.65])]\n",
      "[18.  22.3]\n",
      "[array([23. ,  5.6]), array([31.65,  6.55]), array([17.45, 14.15]), array([36.3, 10.7]), array([26.6,  4.9]), array([21.1,  8. ]), array([17.45, 20.75]), array([38.85, 15.5 ]), array([21.5, 15.5]), array([ 7.1 , 18.65])]\n",
      "[18.  22.3]\n",
      "[array([23. ,  5.6]), array([31.65,  6.55]), array([36.3, 10.7]), array([26.6,  4.9]), array([21.1,  8. ]), array([38.85, 15.5 ]), array([21.5, 15.5]), array([ 7.1 , 18.65])]\n",
      "[18.6  22.25]\n"
     ]
    },
    {
     "name": "stdout",
     "output_type": "stream",
     "text": [
      "[array([23. ,  5.6]), array([31.65,  6.55]), array([17.45, 14.15]), array([36.3, 10.7]), array([26.6,  4.9]), array([21.1,  8. ]), array([17.45, 20.75]), array([38.85, 15.5 ]), array([21.5, 15.5]), array([ 7.1 , 18.65])]\n",
      "[18.6  22.25]\n",
      "[array([23. ,  5.6]), array([31.65,  6.55]), array([36.3, 10.7]), array([26.6,  4.9]), array([21.1,  8. ]), array([38.85, 15.5 ]), array([21.5, 15.5]), array([ 7.1 , 18.65])]\n",
      "[19.2  21.95]\n",
      "[array([23. ,  5.6]), array([31.65,  6.55]), array([17.45, 14.15]), array([36.3, 10.7]), array([26.6,  4.9]), array([21.1,  8. ]), array([17.45, 20.75]), array([38.85, 15.5 ]), array([21.5, 15.5]), array([ 7.1 , 18.65])]\n",
      "[19.2  21.95]\n",
      "[array([23. ,  5.6]), array([31.65,  6.55]), array([36.3, 10.7]), array([26.6,  4.9]), array([21.1,  8. ]), array([38.85, 15.5 ]), array([21.5, 15.5]), array([ 7.1 , 18.65])]\n",
      "[19.45 22.1 ]\n",
      "[array([23. ,  5.6]), array([31.65,  6.55]), array([17.45, 14.15]), array([36.3, 10.7]), array([26.6,  4.9]), array([21.1,  8. ]), array([17.45, 20.75]), array([38.85, 15.5 ]), array([21.5, 15.5]), array([ 7.1 , 18.65])]\n",
      "[19.45 22.1 ]\n",
      "[array([23. ,  5.6]), array([31.65,  6.55]), array([36.3, 10.7]), array([26.6,  4.9]), array([21.1,  8. ]), array([38.85, 15.5 ]), array([21.5, 15.5]), array([ 7.1 , 18.65])]\n",
      "[20.1 21.6]\n",
      "[array([23. ,  5.6]), array([31.65,  6.55]), array([17.45, 14.15]), array([36.3, 10.7]), array([26.6,  4.9]), array([21.1,  8. ]), array([17.45, 20.75]), array([38.85, 15.5 ]), array([21.5, 15.5]), array([ 7.1 , 18.65])]\n",
      "[20.1 21.6]\n",
      "[array([23. ,  5.6]), array([31.65,  6.55]), array([36.3, 10.7]), array([26.6,  4.9]), array([21.1,  8. ]), array([38.85, 15.5 ]), array([21.5, 15.5]), array([ 7.1 , 18.65])]\n",
      "[20.1 20.9]\n",
      "[array([23. ,  5.6]), array([31.65,  6.55]), array([17.45, 14.15]), array([36.3, 10.7]), array([26.6,  4.9]), array([21.1,  8. ]), array([17.45, 20.75]), array([38.85, 15.5 ]), array([21.5, 15.5]), array([ 7.1 , 18.65])]\n",
      "[20.1 20.9]\n",
      "[array([23. ,  5.6]), array([31.65,  6.55]), array([36.3, 10.7]), array([26.6,  4.9]), array([21.1,  8. ]), array([38.85, 15.5 ]), array([21.5, 15.5]), array([ 7.1 , 18.65])]\n",
      "[19.9  20.35]\n",
      "[array([23. ,  5.6]), array([31.65,  6.55]), array([17.45, 14.15]), array([36.3, 10.7]), array([26.6,  4.9]), array([21.1,  8. ]), array([17.45, 20.75]), array([38.85, 15.5 ]), array([21.5, 15.5]), array([ 7.1 , 18.65])]\n",
      "[19.9  20.35]\n",
      "[array([23. ,  5.6]), array([31.65,  6.55]), array([36.3, 10.7]), array([26.6,  4.9]), array([21.1,  8. ]), array([38.85, 15.5 ]), array([21.5, 15.5]), array([ 7.1 , 18.65])]\n",
      "[19.45 19.05]\n",
      "[array([23. ,  5.6]), array([31.65,  6.55]), array([17.45, 14.15]), array([36.3, 10.7]), array([26.6,  4.9]), array([21.1,  8. ]), array([17.45, 20.75]), array([38.85, 15.5 ]), array([21.5, 15.5]), array([ 7.1 , 18.65])]\n",
      "[19.45 19.05]\n",
      "[array([23. ,  5.6]), array([31.65,  6.55]), array([36.3, 10.7]), array([26.6,  4.9]), array([21.1,  8. ]), array([38.85, 15.5 ]), array([21.5, 15.5]), array([ 7.1 , 18.65])]\n",
      "[19.25 18.7 ]\n",
      "[array([23. ,  5.6]), array([31.65,  6.55]), array([17.45, 14.15]), array([36.3, 10.7]), array([26.6,  4.9]), array([21.1,  8. ]), array([17.45, 20.75]), array([38.85, 15.5 ]), array([21.5, 15.5]), array([ 7.1 , 18.65])]\n",
      "[19.25 18.7 ]\n",
      "[array([23. ,  5.6]), array([31.65,  6.55]), array([36.3, 10.7]), array([26.6,  4.9]), array([21.1,  8. ]), array([38.85, 15.5 ]), array([21.5, 15.5]), array([ 7.1 , 18.65])]\n",
      "[21.3 22.3]\n",
      "[array([23. ,  5.6]), array([31.65,  6.55]), array([17.45, 14.15]), array([36.3, 10.7]), array([26.6,  4.9]), array([21.1,  8. ]), array([17.45, 20.75]), array([38.85, 15.5 ]), array([21.5, 15.5]), array([ 7.1 , 18.65])]\n",
      "[21.3 22.3]\n",
      "[array([23. ,  5.6]), array([31.65,  6.55]), array([36.3, 10.7]), array([26.6,  4.9]), array([21.1,  8. ]), array([38.85, 15.5 ]), array([21.5, 15.5]), array([ 7.1 , 18.65])]\n",
      "[22.9  23.65]\n",
      "[array([23. ,  5.6]), array([31.65,  6.55]), array([17.45, 14.15]), array([36.3, 10.7]), array([26.6,  4.9]), array([21.1,  8. ]), array([17.45, 20.75]), array([38.85, 15.5 ]), array([21.5, 15.5]), array([ 7.1 , 18.65])]\n",
      "[22.9  23.65]\n",
      "[array([23. ,  5.6]), array([31.65,  6.55]), array([36.3, 10.7]), array([26.6,  4.9]), array([21.1,  8. ]), array([38.85, 15.5 ]), array([21.5, 15.5]), array([ 7.1 , 18.65])]\n",
      "[23.15 24.1 ]\n",
      "[array([23. ,  5.6]), array([31.65,  6.55]), array([17.45, 14.15]), array([36.3, 10.7]), array([26.6,  4.9]), array([21.1,  8. ]), array([17.45, 20.75]), array([38.85, 15.5 ]), array([21.5, 15.5]), array([ 7.1 , 18.65])]\n",
      "[23.15 24.1 ]\n",
      "[array([23. ,  5.6]), array([31.65,  6.55]), array([36.3, 10.7]), array([26.6,  4.9]), array([21.1,  8. ]), array([38.85, 15.5 ]), array([21.5, 15.5]), array([ 7.1 , 18.65])]\n",
      "[24.25 22.85]\n",
      "[array([23. ,  5.6]), array([31.65,  6.55]), array([17.45, 14.15]), array([36.3, 10.7]), array([26.6,  4.9]), array([21.1,  8. ]), array([17.45, 20.75]), array([38.85, 15.5 ]), array([21.5, 15.5]), array([ 7.1 , 18.65])]\n",
      "[24.25 22.85]\n",
      "[array([23. ,  5.6]), array([31.65,  6.55]), array([36.3, 10.7]), array([26.6,  4.9]), array([21.1,  8. ]), array([38.85, 15.5 ]), array([21.5, 15.5]), array([ 7.1 , 18.65])]\n",
      "[22.05 20.25]\n",
      "[array([23. ,  5.6]), array([31.65,  6.55]), array([17.45, 14.15]), array([36.3, 10.7]), array([26.6,  4.9]), array([21.1,  8. ]), array([17.45, 20.75]), array([38.85, 15.5 ]), array([21.5, 15.5]), array([ 7.1 , 18.65])]\n",
      "[22.05 20.25]\n",
      "[array([23. ,  5.6]), array([31.65,  6.55]), array([36.3, 10.7]), array([26.6,  4.9]), array([21.1,  8. ]), array([38.85, 15.5 ]), array([21.5, 15.5]), array([ 7.1 , 18.65])]\n"
     ]
    }
   ],
   "source": [
    "rival_df = FrisC.get_rival_zone(X[cluster == cluster_pair[0]], \n",
    "                     X[cluster == cluster_pair[1]], \n",
    "                     FrisC.get_stolp(cluster_pair[0]), \n",
    "                     FrisC.get_stolp(cluster_pair[1]))\n"
   ]
  },
  {
   "cell_type": "code",
   "execution_count": 16,
   "metadata": {},
   "outputs": [
    {
     "data": {
      "text/html": [
       "<div>\n",
       "<style scoped>\n",
       "    .dataframe tbody tr th:only-of-type {\n",
       "        vertical-align: middle;\n",
       "    }\n",
       "\n",
       "    .dataframe tbody tr th {\n",
       "        vertical-align: top;\n",
       "    }\n",
       "\n",
       "    .dataframe thead th {\n",
       "        text-align: right;\n",
       "    }\n",
       "</style>\n",
       "<table border=\"1\" class=\"dataframe\">\n",
       "  <thead>\n",
       "    <tr style=\"text-align: right;\">\n",
       "      <th></th>\n",
       "      <th>0</th>\n",
       "      <th>1</th>\n",
       "      <th>ns</th>\n",
       "      <th>F_metric</th>\n",
       "      <th>stolp_distance</th>\n",
       "      <th>cluster</th>\n",
       "    </tr>\n",
       "  </thead>\n",
       "  <tbody>\n",
       "    <tr>\n",
       "      <th>0</th>\n",
       "      <td>0.85</td>\n",
       "      <td>17.45</td>\n",
       "      <td>True</td>\n",
       "      <td>True</td>\n",
       "      <td>True</td>\n",
       "      <td>9</td>\n",
       "    </tr>\n",
       "    <tr>\n",
       "      <th>1</th>\n",
       "      <td>0.75</td>\n",
       "      <td>15.60</td>\n",
       "      <td>True</td>\n",
       "      <td>True</td>\n",
       "      <td>True</td>\n",
       "      <td>9</td>\n",
       "    </tr>\n",
       "    <tr>\n",
       "      <th>2</th>\n",
       "      <td>3.30</td>\n",
       "      <td>15.45</td>\n",
       "      <td>True</td>\n",
       "      <td>True</td>\n",
       "      <td>True</td>\n",
       "      <td>9</td>\n",
       "    </tr>\n",
       "    <tr>\n",
       "      <th>3</th>\n",
       "      <td>5.25</td>\n",
       "      <td>14.20</td>\n",
       "      <td>True</td>\n",
       "      <td>True</td>\n",
       "      <td>True</td>\n",
       "      <td>9</td>\n",
       "    </tr>\n",
       "    <tr>\n",
       "      <th>4</th>\n",
       "      <td>4.90</td>\n",
       "      <td>15.65</td>\n",
       "      <td>True</td>\n",
       "      <td>False</td>\n",
       "      <td>True</td>\n",
       "      <td>9</td>\n",
       "    </tr>\n",
       "  </tbody>\n",
       "</table>\n",
       "</div>"
      ],
      "text/plain": [
       "      0      1    ns  F_metric  stolp_distance  cluster\n",
       "0  0.85  17.45  True      True            True        9\n",
       "1  0.75  15.60  True      True            True        9\n",
       "2  3.30  15.45  True      True            True        9\n",
       "3  5.25  14.20  True      True            True        9\n",
       "4  4.90  15.65  True     False            True        9"
      ]
     },
     "execution_count": 16,
     "metadata": {},
     "output_type": "execute_result"
    }
   ],
   "source": [
    "rival_df.head()"
   ]
  },
  {
   "cell_type": "code",
   "execution_count": 17,
   "metadata": {},
   "outputs": [],
   "source": [
    "d = {(0,1): 1}"
   ]
  },
  {
   "cell_type": "code",
   "execution_count": 18,
   "metadata": {},
   "outputs": [
    {
     "data": {
      "text/plain": [
       "{(0, 1): 1}"
      ]
     },
     "execution_count": 18,
     "metadata": {},
     "output_type": "execute_result"
    }
   ],
   "source": [
    "d"
   ]
  },
  {
   "cell_type": "code",
   "execution_count": 24,
   "metadata": {},
   "outputs": [],
   "source": [
    "trmp = rival_df.drop(['ns', 'F_metric', 'stolp_distance'],axis=1)"
   ]
  },
  {
   "cell_type": "code",
   "execution_count": 27,
   "metadata": {},
   "outputs": [],
   "source": [
    "trmp1 = trmp[trmp[\"cluster\"]==9][[0,1]]\n",
    "trmp2 = trmp[trmp[\"cluster\"]==6][[0,1]]"
   ]
  },
  {
   "cell_type": "code",
   "execution_count": 35,
   "metadata": {},
   "outputs": [
    {
     "data": {
      "text/plain": [
       "(array([10, 10, 10, 10, 10, 10, 10, 10, 10, 10, 11, 11, 11, 10, 10, 10, 10,\n",
       "        10, 10, 11, 11, 11, 11,  2,  2,  2,  2,  2, 11,  0], dtype=int64),\n",
       " array([11.86275685, 12.61715103, 10.43611518,  9.65362626,  8.99180182,\n",
       "         8.51028789,  7.70778827,  8.04875767,  8.42881961,  8.88144132,\n",
       "         9.25486359,  9.05883547,  8.25969128,  7.84617741,  8.1215762 ,\n",
       "         6.32949445,  5.57427125,  5.24618909,  6.35963835,  6.65920416,\n",
       "         5.61092684,  6.1589366 ,  7.21837932,  7.68846539,  6.99321099,\n",
       "         3.58503835,  1.72409396,  2.3307724 ,  2.97069016,  1.43178211]))"
      ]
     },
     "execution_count": 35,
     "metadata": {},
     "output_type": "execute_result"
    }
   ],
   "source": [
    "pairwise_distances(trmp1.values,trmp2.values,metric='euclidean')"
   ]
  },
  {
   "cell_type": "code",
   "execution_count": null,
   "metadata": {},
   "outputs": [],
   "source": []
  },
  {
   "cell_type": "code",
   "execution_count": null,
   "metadata": {},
   "outputs": [],
   "source": [
    "rival_df "
   ]
  },
  {
   "cell_type": "code",
   "execution_count": null,
   "metadata": {},
   "outputs": [],
   "source": [
    "rival_df[rival_df[\"ns\"] & rival_df[\"F_metric\"]& rival_df[\"stolp_distance\"]][[0,1]]"
   ]
  },
  {
   "cell_type": "code",
   "execution_count": null,
   "metadata": {},
   "outputs": [],
   "source": []
  },
  {
   "cell_type": "code",
   "execution_count": null,
   "metadata": {},
   "outputs": [],
   "source": []
  },
  {
   "cell_type": "code",
   "execution_count": null,
   "metadata": {},
   "outputs": [],
   "source": [
    "FrisC.__stolp_list[cluster_pair[0]]"
   ]
  },
  {
   "cell_type": "code",
   "execution_count": null,
   "metadata": {},
   "outputs": [],
   "source": [
    "cluster_pair[0]"
   ]
  },
  {
   "cell_type": "code",
   "execution_count": null,
   "metadata": {},
   "outputs": [],
   "source": [
    " FrisC.get_stolp(cluster_pair[0])"
   ]
  },
  {
   "cell_type": "code",
   "execution_count": null,
   "metadata": {},
   "outputs": [],
   "source": [
    " FrisC.get_stolp(0)"
   ]
  },
  {
   "cell_type": "code",
   "execution_count": null,
   "metadata": {},
   "outputs": [],
   "source": [
    "stable_stolps"
   ]
  },
  {
   "cell_type": "code",
   "execution_count": null,
   "metadata": {},
   "outputs": [],
   "source": [
    "FrisC.stolp_list"
   ]
  },
  {
   "cell_type": "code",
   "execution_count": null,
   "metadata": {},
   "outputs": [],
   "source": [
    "X.iloc[0]"
   ]
  },
  {
   "cell_type": "code",
   "execution_count": null,
   "metadata": {},
   "outputs": [],
   "source": [
    "cluster_data = pd.concat([X[cluster == cluster_pair[0]], \n",
    "                         X[cluster == cluster_pair[1]]])"
   ]
  },
  {
   "cell_type": "code",
   "execution_count": null,
   "metadata": {},
   "outputs": [],
   "source": [
    "cluster_data.head()"
   ]
  },
  {
   "cell_type": "code",
   "execution_count": null,
   "metadata": {},
   "outputs": [],
   "source": [
    "stolp_Ai = FrisC.get_stolp(cluster_pair[0])\n",
    "stolp_Aj = FrisC.get_stolp(cluster_pair[1])"
   ]
  },
  {
   "cell_type": "code",
   "execution_count": null,
   "metadata": {},
   "outputs": [],
   "source": [
    "x = cluster_data.iloc[0]"
   ]
  },
  {
   "cell_type": "code",
   "execution_count": null,
   "metadata": {},
   "outputs": [],
   "source": [
    "nn = FrisC.get_nn_stolp(x, 2)"
   ]
  },
  {
   "cell_type": "code",
   "execution_count": null,
   "metadata": {},
   "outputs": [],
   "source": [
    "nn"
   ]
  },
  {
   "cell_type": "code",
   "execution_count": null,
   "metadata": {},
   "outputs": [],
   "source": [
    "for i in nn:\n",
    "    print(i)\n",
    "    print(nn)\n",
    "    if i not in [stolp_Ai, stolp_Aj]:\n",
    "        print(\"eee\")"
   ]
  },
  {
   "cell_type": "code",
   "execution_count": null,
   "metadata": {},
   "outputs": [],
   "source": [
    "(np.array([ 7.1,  18.65]) not in [np.array([ 7.1 , 18.65]), np.array([17.45, 14.15])]).any()"
   ]
  },
  {
   "cell_type": "code",
   "execution_count": null,
   "metadata": {},
   "outputs": [],
   "source": [
    "(np.array([ 7.1,  18.65]) == np.array([17.45, 14.15])).all()"
   ]
  },
  {
   "cell_type": "code",
   "execution_count": null,
   "metadata": {},
   "outputs": [],
   "source": []
  }
 ],
 "metadata": {
  "kernelspec": {
   "display_name": "Python 3",
   "language": "python",
   "name": "python3"
  },
  "language_info": {
   "codemirror_mode": {
    "name": "ipython",
    "version": 3
   },
   "file_extension": ".py",
   "mimetype": "text/x-python",
   "name": "python",
   "nbconvert_exporter": "python",
   "pygments_lexer": "ipython3",
   "version": "3.7.0"
  }
 },
 "nbformat": 4,
 "nbformat_minor": 2
}
